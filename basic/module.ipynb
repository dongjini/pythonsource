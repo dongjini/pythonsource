{
 "cells": [
  {
   "cell_type": "markdown",
   "id": "e19fcb2c",
   "metadata": {},
   "source": [
    "## 모듈\n",
    "- 함수, 클래스를 모아 놓은 파일\n",
    "\n",
    "## 패키지\n",
    "- 관련있는 모듈의 집합\n"
   ]
  },
  {
   "cell_type": "code",
   "execution_count": 2,
   "id": "27f4c755",
   "metadata": {},
   "outputs": [
    {
     "name": "stdout",
     "output_type": "stream",
     "text": [
      "4\n",
      "3\n",
      "0.1411200080598672\n"
     ]
    }
   ],
   "source": [
    "import math\n",
    "\n",
    "print(math.ceil(3.14))\n",
    "print(math.floor(3.14))\n",
    "print(math.sin(3))"
   ]
  },
  {
   "cell_type": "code",
   "execution_count": 12,
   "id": "98cb1a42",
   "metadata": {},
   "outputs": [
    {
     "name": "stdout",
     "output_type": "stream",
     "text": [
      "0.9689728427815776\n",
      "13.358406626767636\n",
      "3\n",
      "15\n",
      "4\n",
      "[4, 2, 1, 3, 7, 5, 6]\n",
      "[1, 5]\n"
     ]
    }
   ],
   "source": [
    "import random\n",
    "\n",
    "# 0.0 <= x < 1.0 \n",
    "print(random.random())\n",
    "# uniform(x, y) : x ~ y 사이의 임의의 값 float 리턴\n",
    "print(random.uniform(10 ,20))\n",
    "\n",
    "# randrange(max) : 0 ~ max 사이의 값 리턴\n",
    "# randrange(min, max) : min ~ max 사이의 int 값 리턴\n",
    "print(random.randrange(10))\n",
    "print(random.randrange(10, 20))\n",
    "\n",
    "# choice \n",
    "list1 = [1, 2, 3, 4, 5, 6, 7]\n",
    "# choice(리스트) : 리스트에서 임의로 하나\n",
    "print(random.choice(list1))\n",
    "\n",
    "# shuffle(리스트) : 리스트 내부의 요소들을 랜덤하게 섞기\n",
    "random.shuffle(list1)\n",
    "print(list1)\n",
    "\n",
    "# sample(리스트, k=숫자) : 리스트 요소 중 k개 뽑기\n",
    "print(random.sample(list1, k =2 ))\n",
    "\n"
   ]
  },
  {
   "cell_type": "code",
   "execution_count": 13,
   "id": "289f8bf5",
   "metadata": {},
   "outputs": [
    {
     "name": "stdout",
     "output_type": "stream",
     "text": [
      "지금부터 5초 정지\n",
      "프로그램 종료\n"
     ]
    }
   ],
   "source": [
    "import time\n",
    "print('지금부터 5초 정지')\n",
    "time.sleep(5)\n",
    "print('프로그램 종료')"
   ]
  },
  {
   "cell_type": "code",
   "execution_count": 14,
   "id": "124afacc",
   "metadata": {},
   "outputs": [
    {
     "name": "stdout",
     "output_type": "stream",
     "text": [
      "4\n",
      "3\n",
      "0.1411200080598672\n"
     ]
    }
   ],
   "source": [
    "# import 모듈명 : 전체 모듈 load \n",
    "# from 모듈명 import 함수명, 클래스명... : 사용할 함수, 클래스만 가져오기\n",
    "\n",
    "from math import ceil, floor, sin\n",
    "\n",
    "print(math.ceil(3.14))\n",
    "print(math.floor(3.14))\n",
    "print(math.sin(3))"
   ]
  },
  {
   "cell_type": "code",
   "execution_count": 18,
   "id": "0e66955c",
   "metadata": {},
   "outputs": [
    {
     "name": "stdout",
     "output_type": "stream",
     "text": [
      "0.813235323027462\n",
      "17.56567165507037\n",
      "3\n",
      "15\n",
      "3\n",
      "[2, 6, 3, 5, 1, 7, 4]\n",
      "[6, 5]\n"
     ]
    }
   ],
   "source": [
    "from random import random, randrange, choice, shuffle, sample, uniform\n",
    "\n",
    "# 0.0 <= x < 1.0 \n",
    "print(random())\n",
    "# uniform(x, y) : x ~ y 사이의 임의의 값 float 리턴\n",
    "print(uniform(10 ,20))\n",
    "\n",
    "# randrange(max) : 0 ~ max 사이의 값 리턴\n",
    "# randrange(min, max) : min ~ max 사이의 int 값 리턴\n",
    "print(randrange(10))\n",
    "print(randrange(10, 20))\n",
    "\n",
    "# choice \n",
    "list1 = [1, 2, 3, 4, 5, 6, 7]\n",
    "# choice(리스트) : 리스트에서 임의로 하나\n",
    "print(choice(list1))\n",
    "\n",
    "# shuffle(리스트) : 리스트 내부의 요소들을 랜덤하게 섞기\n",
    "shuffle(list1)\n",
    "print(list1)\n",
    "\n",
    "# sample(리스트, k=숫자) : 리스트 요소 중 k개 뽑기\n",
    "print(sample(list1, k =2 ))\n"
   ]
  },
  {
   "cell_type": "markdown",
   "id": "418a28e8",
   "metadata": {},
   "source": [
    "## 커스텀 모듈"
   ]
  },
  {
   "cell_type": "code",
   "execution_count": 27,
   "id": "e0c7b3a4",
   "metadata": {},
   "outputs": [
    {
     "name": "stdout",
     "output_type": "stream",
     "text": [
      "11\n",
      "-1\n"
     ]
    }
   ],
   "source": [
    "import mod1\n",
    "\n",
    "print(mod1.add(5, 6))\n",
    "print(mod1.sub(5, 6))"
   ]
  },
  {
   "cell_type": "code",
   "execution_count": 28,
   "id": "25f3c48b",
   "metadata": {},
   "outputs": [
    {
     "name": "stdout",
     "output_type": "stream",
     "text": [
      "10\n",
      "-2\n"
     ]
    }
   ],
   "source": [
    "from mod1 import add, sub\n",
    "\n",
    "print(add(4, 6))\n",
    "print(sub(4, 6))"
   ]
  },
  {
   "cell_type": "code",
   "execution_count": 29,
   "id": "2875909f",
   "metadata": {},
   "outputs": [
    {
     "name": "stdout",
     "output_type": "stream",
     "text": [
      "78.5398\n",
      "21\n"
     ]
    }
   ],
   "source": [
    "from mod2 import *\n",
    "\n",
    "obj = Math()\n",
    "print(obj.solv(5))\n",
    "\n",
    "print(add(9, 12))"
   ]
  },
  {
   "cell_type": "code",
   "execution_count": 33,
   "id": "58f10594",
   "metadata": {},
   "outputs": [
    {
     "name": "stdout",
     "output_type": "stream",
     "text": [
      "11\n",
      "-1\n",
      "30\n",
      "0.8333333333333334\n"
     ]
    }
   ],
   "source": [
    "from mod3 import Calc\n",
    "\n",
    "calc = Calc(5, 6)\n",
    "print(calc.sum())\n",
    "print(calc.sub())\n",
    "print(calc.mul())\n",
    "print(calc.div())\n"
   ]
  },
  {
   "cell_type": "code",
   "execution_count": 35,
   "id": "171b0a44",
   "metadata": {},
   "outputs": [],
   "source": [
    "import datetime\n",
    "\n",
    "day1 = datetime.datetime(2025, 6, 9, 13, 17, 11)\n",
    "day2 = datetime.date(2025, 6, 9)\n",
    "time1 = datetime.time(13, 17, 11)\n"
   ]
  },
  {
   "cell_type": "code",
   "execution_count": null,
   "id": "cd71eaf8",
   "metadata": {},
   "outputs": [
    {
     "data": {
      "text/plain": [
       "1749442760.5968242"
      ]
     },
     "execution_count": 36,
     "metadata": {},
     "output_type": "execute_result"
    }
   ],
   "source": [
    "import time\n",
    "\n",
    "\n",
    "# 1970-01-01/0시0분0초 (기준점) : 기준으로 지난 시간 초 단위로 리턴\n",
    "time.time()"
   ]
  },
  {
   "cell_type": "code",
   "execution_count": null,
   "id": "4527f66f",
   "metadata": {},
   "outputs": [],
   "source": []
  }
 ],
 "metadata": {
  "kernelspec": {
   "display_name": "venv",
   "language": "python",
   "name": "python3"
  },
  "language_info": {
   "codemirror_mode": {
    "name": "ipython",
    "version": 3
   },
   "file_extension": ".py",
   "mimetype": "text/x-python",
   "name": "python",
   "nbconvert_exporter": "python",
   "pygments_lexer": "ipython3",
   "version": "3.13.3"
  }
 },
 "nbformat": 4,
 "nbformat_minor": 5
}
