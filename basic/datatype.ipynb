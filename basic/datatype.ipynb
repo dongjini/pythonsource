{
 "cells": [
  {
   "cell_type": "markdown",
   "id": "07f4accd",
   "metadata": {},
   "source": [
    "### 자료형\n",
    "- 숫자형 : 정수, 실수, 8진수, 16진수"
   ]
  },
  {
   "cell_type": "code",
   "execution_count": 8,
   "id": "784abc46",
   "metadata": {},
   "outputs": [
    {
     "data": {
      "text/plain": [
       "127"
      ]
     },
     "execution_count": 8,
     "metadata": {},
     "output_type": "execute_result"
    }
   ],
   "source": [
    "a=123\n",
    "b= -124\n",
    "\n",
    "# 8진수(0o), 16진수(0x)\n",
    "c=0o177  # 1 * 8의 2승 + 7 * 8 +7\n",
    "c # == print(c)"
   ]
  },
  {
   "cell_type": "code",
   "execution_count": null,
   "id": "dfac1992",
   "metadata": {},
   "outputs": [
    {
     "name": "stdout",
     "output_type": "stream",
     "text": [
      "7\n",
      "-1\n",
      "12\n",
      "0.75\n",
      "0\n",
      "3\n"
     ]
    }
   ],
   "source": [
    "# 사칙연산 : +, -, *, /, //, %\n",
    "\n",
    "a=3\n",
    "b=4\n",
    "\n",
    "print(a+b) \n",
    "print(a-b)\n",
    "print(a*b) \n",
    "print(a/b) # 0.75  자바 : 몫 / 자바스크립트, 파이썬은 같은 형식\n",
    "print(a//b) # 0 => 자바스크립트, 파이썬 : 몫\n",
    "print(a%b) # 3 나머지"
   ]
  },
  {
   "cell_type": "markdown",
   "id": "1755bd0d",
   "metadata": {},
   "source": [
    "- 문자열 자료형\n",
    "     - 작은 따음표, 큰 따음표, 큰 따음표 3개, 작은따음표 3개"
   ]
  },
  {
   "cell_type": "code",
   "execution_count": null,
   "id": "7c7ddc08",
   "metadata": {},
   "outputs": [
    {
     "data": {
      "text/plain": [
       "'Python`s favorite food is perl'"
      ]
     },
     "execution_count": 10,
     "metadata": {},
     "output_type": "execute_result"
    }
   ],
   "source": [
    "food = \"Python's favorite food is perl\"\n",
    "food"
   ]
  },
  {
   "cell_type": "code",
   "execution_count": 11,
   "id": "83da6dff",
   "metadata": {},
   "outputs": [
    {
     "data": {
      "text/plain": [
       "\"Python's favorite food is perl\""
      ]
     },
     "execution_count": 11,
     "metadata": {},
     "output_type": "execute_result"
    }
   ],
   "source": [
    "food = 'Python\\'s favorite food is perl'\n",
    "food"
   ]
  },
  {
   "cell_type": "code",
   "execution_count": 13,
   "id": "a70b75dc",
   "metadata": {},
   "outputs": [
    {
     "name": "stdout",
     "output_type": "stream",
     "text": [
      "Life is too short\n",
      " You need python\n"
     ]
    }
   ],
   "source": [
    "multiline = \"Life is too short\\n You need python\"\n",
    "print(multiline)"
   ]
  },
  {
   "cell_type": "code",
   "execution_count": 15,
   "id": "aa871a40",
   "metadata": {},
   "outputs": [
    {
     "name": "stdout",
     "output_type": "stream",
     "text": [
      "Life is too short\n",
      " You need python\n"
     ]
    }
   ],
   "source": [
    "multiline = \"\"\"Life is too short\n",
    " You need python\"\"\"\n",
    "print(multiline)"
   ]
  },
  {
   "cell_type": "code",
   "execution_count": 16,
   "id": "f9dd1e90",
   "metadata": {},
   "outputs": [
    {
     "name": "stdout",
     "output_type": "stream",
     "text": [
      "Life is too short\n",
      "You need pythin\n"
     ]
    }
   ],
   "source": [
    "multiline = '''Life is too short\n",
    "You need pythin'''\n",
    "print(multiline)"
   ]
  },
  {
   "cell_type": "markdown",
   "id": "163c7c2c",
   "metadata": {},
   "source": [
    "``` \n",
    "- 문자열 연결 \n",
    "     + : 연결\n",
    "```"
   ]
  },
  {
   "cell_type": "code",
   "execution_count": 17,
   "id": "afe1ce7e",
   "metadata": {},
   "outputs": [
    {
     "name": "stdout",
     "output_type": "stream",
     "text": [
      "Python is fun\n"
     ]
    }
   ],
   "source": [
    "head = \"Python\"\n",
    "tail = \" is fun\"\n",
    "print(head + tail)"
   ]
  },
  {
   "cell_type": "code",
   "execution_count": 18,
   "id": "63eb9115",
   "metadata": {},
   "outputs": [
    {
     "name": "stdout",
     "output_type": "stream",
     "text": [
      "PythonPython\n"
     ]
    }
   ],
   "source": [
    "head = \"Python\"\n",
    "print(head*2)"
   ]
  },
  {
   "cell_type": "code",
   "execution_count": 23,
   "id": "fdd4e76e",
   "metadata": {},
   "outputs": [
    {
     "name": "stdout",
     "output_type": "stream",
     "text": [
      "==================================================\n",
      "My program\n",
      "==================================================\n"
     ]
    }
   ],
   "source": [
    "print(\"=\" *50)\n",
    "print(\"My program\")\n",
    "print(\"=\"*50)"
   ]
  },
  {
   "cell_type": "markdown",
   "id": "11a88246",
   "metadata": {},
   "source": [
    "- 문자열 인덱싱과 슬라이싱(*)\n",
    "     - 인덱스 : 0부터 시작, -1을 붙이면 오른쪽끝부터 접근"
   ]
  },
  {
   "cell_type": "code",
   "execution_count": 28,
   "id": "7dce21a7",
   "metadata": {},
   "outputs": [
    {
     "data": {
      "text/plain": [
       "'Life is too short You need python'"
      ]
     },
     "execution_count": 28,
     "metadata": {},
     "output_type": "execute_result"
    }
   ],
   "source": [
    "str1 = '''Life is too short You need python'''\n",
    "str1"
   ]
  },
  {
   "cell_type": "code",
   "execution_count": 29,
   "id": "ee677ca8",
   "metadata": {},
   "outputs": [
    {
     "name": "stdout",
     "output_type": "stream",
     "text": [
      "e\n",
      "n\n"
     ]
    }
   ],
   "source": [
    "# 인덱스 index\n",
    "\n",
    "print(str1[3])\n",
    "print(str1[-1])"
   ]
  },
  {
   "cell_type": "code",
   "execution_count": null,
   "id": "5c4684c8",
   "metadata": {},
   "outputs": [
    {
     "name": "stdout",
     "output_type": "stream",
     "text": [
      "e is too short You need python\n",
      "Life i\n",
      "Life is too short You need python\n",
      "Life is too short You need\n"
     ]
    }
   ],
   "source": [
    "# 슬라이싱[시작위치 : 종료위치]\n",
    "# 종료 위치는 출력에 포함하지 않음\n",
    "# 위치 지정하지 않으면 무조건 처음 or 마지막 의미\n",
    "\n",
    "print(str1[3:])\n",
    "print(str1[:6])\n",
    "print(str1[:])\n",
    "print(str1[:-7])"
   ]
  },
  {
   "cell_type": "code",
   "execution_count": 34,
   "id": "7d8f6b52",
   "metadata": {},
   "outputs": [
    {
     "name": "stdout",
     "output_type": "stream",
     "text": [
      "20250602\n",
      "Rainy\n"
     ]
    }
   ],
   "source": [
    "a = \"20250602Rainy\"\n",
    "\n",
    "# 날짜와 날씨 구분 후 출력\n",
    "date = a[:-5]\n",
    "weather = a[8:]\n",
    "print(date)\n",
    "print(weather)"
   ]
  },
  {
   "cell_type": "markdown",
   "id": "eec5f14f",
   "metadata": {},
   "source": [
    "- 문자열 포매팅\n",
    "     - %s : 문자열,(모든 것 가능)\n",
    "     - %c : 문자 1개\n",
    "     - %d : 정수\n",
    "     - %f : 부동소수\n",
    "     - %% : 문자 %를 의미"
   ]
  },
  {
   "cell_type": "code",
   "execution_count": 42,
   "id": "c14da15b",
   "metadata": {},
   "outputs": [
    {
     "name": "stdout",
     "output_type": "stream",
     "text": [
      "I eat 3 apples\n",
      "I eat 3 apples\n",
      "I eat five apples\n",
      "I eat 3 apples. so I was sick for three days\n",
      "Error is 98%\n"
     ]
    }
   ],
   "source": [
    "# %d, %s, %f \n",
    "\n",
    "print(\"I eat %d apples\" % 3)\n",
    "print(\"I eat %s apples\" % 3)\n",
    "print(\"I eat %s apples\" % \"five\")\n",
    "print(\"I eat %d apples. so I was sick for %s days\" % (3, \"three\"))\n",
    "print('Error is %d%%' %98)"
   ]
  },
  {
   "cell_type": "code",
   "execution_count": null,
   "id": "8a88231f",
   "metadata": {},
   "outputs": [
    {
     "name": "stdout",
     "output_type": "stream",
     "text": [
      "hi\n",
      "        hi\n",
      "hi        \n"
     ]
    }
   ],
   "source": [
    "print('%s' %'hi')\n",
    "print('%10s' %'hi') # 10칸을 쓰되 오른쪽 정렬\n",
    "print('%-10s' %'hi') # 10칸을 쓰되 왼쪽 정렬\n"
   ]
  },
  {
   "cell_type": "code",
   "execution_count": 45,
   "id": "9797ed93",
   "metadata": {},
   "outputs": [
    {
     "name": "stdout",
     "output_type": "stream",
     "text": [
      "3.1416\n",
      "    3.1416\n"
     ]
    }
   ],
   "source": [
    "print(\"%.4f\" % 3.141592)\n",
    "print(\"%10.4f\" % 3.141592)"
   ]
  },
  {
   "cell_type": "markdown",
   "id": "796a8728",
   "metadata": {},
   "source": [
    "### format 함수 사용한 포매팅"
   ]
  },
  {
   "cell_type": "code",
   "execution_count": 47,
   "id": "1786289d",
   "metadata": {},
   "outputs": [
    {
     "name": "stdout",
     "output_type": "stream",
     "text": [
      "I eat 3 apples\n",
      "I eat 3 apples\n",
      "I eat five apples\n",
      "I eat 3 apples. so I was sick for three days\n"
     ]
    }
   ],
   "source": [
    "print(\"I eat {0} apples\" .format(3))\n",
    "print(\"I eat {0} apples\" .format(3))\n",
    "print(\"I eat {0} apples\" .format(\"five\"))\n",
    "print(\"I eat {0} apples. so I was sick for {1} days\" .format(3, \"three\"))"
   ]
  },
  {
   "cell_type": "code",
   "execution_count": 48,
   "id": "504bbdb2",
   "metadata": {},
   "outputs": [
    {
     "name": "stdout",
     "output_type": "stream",
     "text": [
      "I eat 3 apples\n",
      "I eat 3 apples\n",
      "I eat 3 apples\n"
     ]
    }
   ],
   "source": [
    "number = 3 \n",
    "print(\"I eat %d apples\" % number)\n",
    "print(\"I eat {0} apples\" .format(number))\n",
    "print(\"I eat\", number, \"apples\" )\n"
   ]
  },
  {
   "cell_type": "markdown",
   "id": "65bae184",
   "metadata": {},
   "source": [
    "### f 문자열 포매팅\n"
   ]
  },
  {
   "cell_type": "code",
   "execution_count": 50,
   "id": "5c68e4a9",
   "metadata": {},
   "outputs": [
    {
     "name": "stdout",
     "output_type": "stream",
     "text": [
      "나의 이름은 홍길동 입니다. 나이는 30 입니다\n",
      "나의 이름은 홍길동 입니다. 나이는 31 입니다\n"
     ]
    }
   ],
   "source": [
    "name = '홍길동'\n",
    "age = 30\n",
    "print(f\"나의 이름은 {name} 입니다. 나이는 {age} 입니다\")\n",
    "print(f\"나의 이름은 {name} 입니다. 나이는 {age + 1} 입니다\")"
   ]
  },
  {
   "cell_type": "markdown",
   "id": "b66430ef",
   "metadata": {},
   "source": [
    "### 문자열 관련 함수"
   ]
  },
  {
   "cell_type": "code",
   "execution_count": null,
   "id": "0743c796",
   "metadata": {},
   "outputs": [
    {
     "data": {
      "text/plain": [
       "2"
      ]
     },
     "execution_count": 51,
     "metadata": {},
     "output_type": "execute_result"
    }
   ],
   "source": [
    "a = \"hobby\"\n",
    "# count() : 특정 문자열 개수\n",
    "\n",
    "a.count('b')"
   ]
  },
  {
   "cell_type": "code",
   "execution_count": 52,
   "id": "726259a2",
   "metadata": {},
   "outputs": [
    {
     "data": {
      "text/plain": [
       "5"
      ]
     },
     "execution_count": 52,
     "metadata": {},
     "output_type": "execute_result"
    }
   ],
   "source": [
    "# 길이\n",
    "len(a) "
   ]
  },
  {
   "cell_type": "code",
   "execution_count": null,
   "id": "bb29f3d7",
   "metadata": {},
   "outputs": [
    {
     "name": "stdout",
     "output_type": "stream",
     "text": [
      "14\n",
      "14\n",
      "14\n",
      "-1\n"
     ]
    }
   ],
   "source": [
    "a = \"Python is the best choice\"\n",
    "# b 라는 문자가 처음 나온 위치\n",
    "# find( 찾을문자, 시작위치)\n",
    "print(a.find(\"b\"))\n",
    "print(a.find(\"b\", 10))\n",
    "print(a.rfind(\"b\")) \n",
    "print(a.find(\"k\")) # 없는건 -1로 표현"
   ]
  },
  {
   "cell_type": "code",
   "execution_count": 59,
   "id": "82b78680",
   "metadata": {},
   "outputs": [
    {
     "name": "stdout",
     "output_type": "stream",
     "text": [
      "14\n"
     ]
    }
   ],
   "source": [
    "# index, find 안전한건 find라 find 이용\n",
    "\n",
    "print(a.index(\"b\"))\n",
    "# print(a.index(\"k\")) -> 찾는 문자가 없을 때 에러 반환"
   ]
  },
  {
   "cell_type": "code",
   "execution_count": null,
   "id": "8ca504f3",
   "metadata": {},
   "outputs": [
    {
     "name": "stdout",
     "output_type": "stream",
     "text": [
      "True\n",
      "False\n"
     ]
    }
   ],
   "source": [
    "# startwith() : 특정 문자로 시작하는\n",
    "# endwith() : 특정 문자로 끝나는\n",
    "print(a.startswith(\"P\"))\n",
    "print(a.endswith(\"P\"))"
   ]
  },
  {
   "cell_type": "code",
   "execution_count": 65,
   "id": "e67719d3",
   "metadata": {},
   "outputs": [
    {
     "name": "stdout",
     "output_type": "stream",
     "text": [
      "a,b,c,d,e\n",
      "ABCD\n"
     ]
    }
   ],
   "source": [
    "# join() : 리스트를 일반 문자열로 변경 시 가장 많이 사용\n",
    "\n",
    "print(\",\".join(\"abcde\"))\n",
    "print(\"\".join([\"A\", \"B\", 'C', 'D']))\n"
   ]
  },
  {
   "cell_type": "code",
   "execution_count": null,
   "id": "e9ee6158",
   "metadata": {},
   "outputs": [
    {
     "name": "stdout",
     "output_type": "stream",
     "text": [
      "ABCDE\n",
      "abcde\n",
      "AbCdE\n"
     ]
    }
   ],
   "source": [
    "# upeer() : 대문자, lower(): 소문자\n",
    "# swapcase() : 대소문자 상호 변환\n",
    "a= \"abcde\"\n",
    "print(a.upper())\n",
    "a= \"ABCDE\"\n",
    "print(a.lower())\n",
    "a= \"aBcDe\"\n",
    "print(a.swapcase())\n"
   ]
  },
  {
   "cell_type": "code",
   "execution_count": 71,
   "id": "0673fabd",
   "metadata": {},
   "outputs": [
    {
     "name": "stdout",
     "output_type": "stream",
     "text": [
      "        hi\n",
      "hi\n",
      "hi         \n",
      "hi\n",
      "         hi         \n",
      "hi\n"
     ]
    }
   ],
   "source": [
    "# 공백 제거\n",
    "# lstrip() : 왼쪽 공백 제거\n",
    "# rstrip() : 오른쪽 공백 제거\n",
    "# strip() : 양쪽 공백 제거\n",
    "\n",
    "a = \"        hi\"\n",
    "print(a)\n",
    "print(a.lstrip())\n",
    "\n",
    "\n",
    "a = \"hi         \"\n",
    "print(a)\n",
    "print(a.rstrip())\n",
    "\n",
    "\n",
    "\n",
    "a = \"         hi         \"\n",
    "print(a)\n",
    "print(a.strip())\n",
    "\n"
   ]
  },
  {
   "cell_type": "code",
   "execution_count": null,
   "id": "fd9debba",
   "metadata": {},
   "outputs": [
    {
     "data": {
      "text/plain": [
       "'You leg is too short'"
      ]
     },
     "execution_count": 72,
     "metadata": {},
     "output_type": "execute_result"
    }
   ],
   "source": [
    "# 문자열 변경 : replace\n",
    "\n",
    "a = \"Life is too short\"\n",
    "a.replace(\"Life\", \"You leg\") # 원본을 바꾸진 않음"
   ]
  },
  {
   "cell_type": "code",
   "execution_count": null,
   "id": "b0281a27",
   "metadata": {},
   "outputs": [
    {
     "name": "stdout",
     "output_type": "stream",
     "text": [
      "['Life', 'is', 'too', 'short']\n",
      "['a', 'b', 'c', 'd']\n"
     ]
    }
   ],
   "source": [
    "# 문자열 나누기 : split\n",
    "# default : 공백기준\n",
    "print(a.split()) \n",
    "\n",
    "a = \"a:b:c:d\"\n",
    "print(a.split(\":\"))"
   ]
  },
  {
   "cell_type": "code",
   "execution_count": null,
   "id": "7823a821",
   "metadata": {},
   "outputs": [
    {
     "name": "stdout",
     "output_type": "stream",
     "text": [
      "True\n",
      "False\n",
      "True\n",
      "False\n",
      "False\n",
      "True\n"
     ]
    }
   ],
   "source": [
    "# 문자열 구성 파악\n",
    "\n",
    "print(\"1234\" .isdigit())\n",
    "print(\"1234\" .isalpha())\n",
    "print(\"1234\" .isalnum())  # alnum => alpha + num (알파벳 + 숫자)\n",
    "print(\"ABCD\" .islower())\n",
    "print(\"abcd\" .isupper())\n",
    "print(\"    \" .isspace())"
   ]
  },
  {
   "cell_type": "code",
   "execution_count": null,
   "id": "77436497",
   "metadata": {},
   "outputs": [],
   "source": []
  }
 ],
 "metadata": {
  "kernelspec": {
   "display_name": "venv",
   "language": "python",
   "name": "python3"
  },
  "language_info": {
   "codemirror_mode": {
    "name": "ipython",
    "version": 3
   },
   "file_extension": ".py",
   "mimetype": "text/x-python",
   "name": "python",
   "nbconvert_exporter": "python",
   "pygments_lexer": "ipython3",
   "version": "3.13.3"
  }
 },
 "nbformat": 4,
 "nbformat_minor": 5
}
