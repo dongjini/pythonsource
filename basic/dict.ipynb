{
 "cells": [
  {
   "cell_type": "markdown",
   "id": "a6e888f5",
   "metadata": {},
   "source": [
    "### 딕셔너리\n",
    "- 자바의 map 과 같은 개념\n",
    "- {key:value}"
   ]
  },
  {
   "cell_type": "code",
   "execution_count": 1,
   "id": "f2699812",
   "metadata": {},
   "outputs": [],
   "source": [
    "dict1 = {\"name\": \"Kim\", \"age\":12}\n",
    "dict2 = {0:\"Kim\", 1:12}\n",
    "dict3 = {\"arr\": [1,2,3,4,5]}"
   ]
  },
  {
   "cell_type": "code",
   "execution_count": 2,
   "id": "4e6ba1cd",
   "metadata": {},
   "outputs": [
    {
     "name": "stdout",
     "output_type": "stream",
     "text": [
      "{'name': 'Kim', 'age': 12}\n",
      "Kim\n"
     ]
    }
   ],
   "source": [
    "print(dict1)\n",
    "print(dict1[\"name\"])"
   ]
  },
  {
   "cell_type": "code",
   "execution_count": 3,
   "id": "d378cbf5",
   "metadata": {},
   "outputs": [
    {
     "name": "stdout",
     "output_type": "stream",
     "text": [
      "{'arr': [1, 2, 3, 4, 5], 'rank': (16, 17, 18)}\n"
     ]
    }
   ],
   "source": [
    "# 추가 \n",
    "dict3[\"rank\"] = (16, 17, 18)\n",
    "print(dict3)"
   ]
  },
  {
   "cell_type": "code",
   "execution_count": 4,
   "id": "1edfab54",
   "metadata": {},
   "outputs": [
    {
     "name": "stdout",
     "output_type": "stream",
     "text": [
      "{1: 2, 2: 3, 3: 3, 4: 3, 5: 3, 6: 2, 7: 2, 8: 1, 9: 1}\n"
     ]
    }
   ],
   "source": [
    "# numbers 내부에 들어있는 숫자가 몇번 등장하는 지 dict 구조로 생성\n",
    "\n",
    "numbers = [1, 2, 3, 4, 5, 6, 7, 8, 9, 1, 2, 3, 4 , 5, 6, 5, 7 , 2, 3, 4]\n",
    "counter ={}\n",
    "\n",
    "# {1:3, 2:4, 6:1}\n",
    "\n",
    "for num in numbers:\n",
    "    counter[num] = numbers.count(num)\n",
    "\n",
    "print(counter)\n"
   ]
  },
  {
   "cell_type": "code",
   "execution_count": 5,
   "id": "e4aac5ac",
   "metadata": {},
   "outputs": [
    {
     "name": "stdout",
     "output_type": "stream",
     "text": [
      "{'name': 'Kim'}\n"
     ]
    }
   ],
   "source": [
    "# 삭제\n",
    "\n",
    "del dict1[\"age\"]\n",
    "print(dict1)\n"
   ]
  },
  {
   "cell_type": "code",
   "execution_count": 6,
   "id": "888378a4",
   "metadata": {},
   "outputs": [
    {
     "name": "stdout",
     "output_type": "stream",
     "text": [
      "None\n"
     ]
    }
   ],
   "source": [
    "# get()\n",
    "\n",
    "# print(dict1[\"age\"])\n",
    "print(dict1.get(\"age\")) # None 딕셔너리 자겨올땐 get 추천"
   ]
  },
  {
   "cell_type": "code",
   "execution_count": 7,
   "id": "d82cd93f",
   "metadata": {},
   "outputs": [
    {
     "name": "stdout",
     "output_type": "stream",
     "text": [
      "dict_keys(['name'])\n",
      "dict_values(['Kim'])\n",
      "dict_items([('name', 'Kim')])\n"
     ]
    }
   ],
   "source": [
    "# keys(), values(), items()\n",
    "\n",
    "print(dict1.keys())  # key 값 가져오기\n",
    "print(dict1.values())  # value 값 가져오기\n",
    "print(dict1.items())  # key, value 가져오기"
   ]
  },
  {
   "cell_type": "code",
   "execution_count": 8,
   "id": "d5a6dead",
   "metadata": {},
   "outputs": [
    {
     "name": "stdout",
     "output_type": "stream",
     "text": [
      "name\n"
     ]
    }
   ],
   "source": [
    "# 키 출력\n",
    "\n",
    "\n",
    "for k in dict1.keys():\n",
    "    print(k)"
   ]
  },
  {
   "cell_type": "code",
   "execution_count": 9,
   "id": "e87d1346",
   "metadata": {},
   "outputs": [
    {
     "name": "stdout",
     "output_type": "stream",
     "text": [
      "0 Kim\n",
      "1 12\n"
     ]
    }
   ],
   "source": [
    "# key, value 출력\n",
    "\n",
    "for k, v in dict2.items():\n",
    "    print(k, v)"
   ]
  },
  {
   "cell_type": "code",
   "execution_count": 10,
   "id": "7dbc4283",
   "metadata": {},
   "outputs": [
    {
     "name": "stdout",
     "output_type": "stream",
     "text": [
      "포함 됨\n"
     ]
    }
   ],
   "source": [
    "dict4 = {\"봄\": \"딸기\", \"여름\": \"토마토\", \"가을\":\"사과\", \"겨울\": \"바나나\"}\n",
    "\n",
    "# value에 사과 가 포함되어 있는지 확인\n",
    "for v in dict4.values():\n",
    "    if v == \"사과\":\n",
    "        print(\"포함 됨\")\n",
    "        break"
   ]
  },
  {
   "cell_type": "code",
   "execution_count": 11,
   "id": "8c704804",
   "metadata": {},
   "outputs": [
    {
     "name": "stdout",
     "output_type": "stream",
     "text": [
      "포함됨\n"
     ]
    }
   ],
   "source": [
    "if \"사과\" in dict4.values():\n",
    "    print(\"포함됨\")\n",
    "else:\n",
    "    print(\"포함되지 않음\")"
   ]
  },
  {
   "cell_type": "code",
   "execution_count": 12,
   "id": "b9322e1d",
   "metadata": {},
   "outputs": [
    {
     "data": {
      "text/plain": [
       "{'딸기', '바나나', '사과', '토마토'}"
      ]
     },
     "execution_count": 12,
     "metadata": {},
     "output_type": "execute_result"
    }
   ],
   "source": [
    "fruits = {v for v in dict4.values()}\n",
    "fruits"
   ]
  },
  {
   "cell_type": "code",
   "execution_count": 13,
   "id": "17bc6712",
   "metadata": {},
   "outputs": [
    {
     "data": {
      "text/plain": [
       "['딸기', '토마토', '사과', '바나나']"
      ]
     },
     "execution_count": 13,
     "metadata": {},
     "output_type": "execute_result"
    }
   ],
   "source": [
    "fruits = [v for v in dict4.values()]\n",
    "fruits"
   ]
  },
  {
   "cell_type": "code",
   "execution_count": 14,
   "id": "41fee8b9",
   "metadata": {},
   "outputs": [
    {
     "data": {
      "text/plain": [
       "{'딸기', '바나나', '토마토'}"
      ]
     },
     "execution_count": 14,
     "metadata": {},
     "output_type": "execute_result"
    }
   ],
   "source": [
    "fruits = {v for v in dict4.values() if v != \"사과\"}\n",
    "fruits"
   ]
  },
  {
   "cell_type": "code",
   "execution_count": 15,
   "id": "de7cc922",
   "metadata": {},
   "outputs": [
    {
     "data": {
      "text/plain": [
       "{('겨울', '바나나'), ('봄', '딸기'), ('여름', '토마토')}"
      ]
     },
     "execution_count": 15,
     "metadata": {},
     "output_type": "execute_result"
    }
   ],
   "source": [
    "fruits = {(k, v) for k, v in dict4.items() if v != \"사과\"}\n",
    "fruits"
   ]
  },
  {
   "cell_type": "code",
   "execution_count": 19,
   "id": "53cccb8f",
   "metadata": {},
   "outputs": [],
   "source": [
    "# 딕셔너리 생성 - dict1 \n",
    "# A:90, B:80, C:70\n",
    "dict1 = {\"A\":90, \"B\":80, \"C\":70}\n"
   ]
  },
  {
   "cell_type": "code",
   "execution_count": 25,
   "id": "b5a7a2a9",
   "metadata": {},
   "outputs": [
    {
     "name": "stdout",
     "output_type": "stream",
     "text": [
      "80\n",
      "80\n"
     ]
    }
   ],
   "source": [
    "# 생성된 dict1 에서 키가 B 인 값만 출력\n",
    "print(dict1[\"B\"])\n",
    "print(dict1.get(\"B\"))"
   ]
  },
  {
   "cell_type": "code",
   "execution_count": 26,
   "id": "a2241c84",
   "metadata": {},
   "outputs": [],
   "source": [
    "# 딕서녀리 생성 - dict2\n",
    "# 성인:10000, 청소년:7000, 아동:3000\n",
    "dict2 = {\"성인\":10000, \"청소년\":7000, \"아동\":3000}"
   ]
  },
  {
   "cell_type": "code",
   "execution_count": 27,
   "id": "f7fcd710",
   "metadata": {},
   "outputs": [
    {
     "name": "stdout",
     "output_type": "stream",
     "text": [
      "dict_keys(['성인', '청소년', '아동', '소아'])\n",
      "dict_values([10000, 7000, 3000, 0])\n"
     ]
    }
   ],
   "source": [
    "# dict2 에 새로운 요소 추가\n",
    "# 소아:0\n",
    "dict2[\"소아\"] = 0\n",
    "\n",
    "# key 항목만 출력\n",
    "print(dict2.keys())\n",
    "\n",
    "# value 항목만 출력\n",
    "print(dict2.values())"
   ]
  },
  {
   "cell_type": "code",
   "execution_count": null,
   "id": "f57e6ee9",
   "metadata": {},
   "outputs": [],
   "source": []
  }
 ],
 "metadata": {
  "kernelspec": {
   "display_name": "venv",
   "language": "python",
   "name": "python3"
  },
  "language_info": {
   "codemirror_mode": {
    "name": "ipython",
    "version": 3
   },
   "file_extension": ".py",
   "mimetype": "text/x-python",
   "name": "python",
   "nbconvert_exporter": "python",
   "pygments_lexer": "ipython3",
   "version": "3.13.3"
  }
 },
 "nbformat": 4,
 "nbformat_minor": 5
}
