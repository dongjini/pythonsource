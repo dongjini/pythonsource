{
 "cells": [
  {
   "cell_type": "markdown",
   "id": "a6e888f5",
   "metadata": {},
   "source": [
    "### 딕셔너리\n",
    "- 자바의 map 과 같은 개념\n",
    "- {key:value}"
   ]
  },
  {
   "cell_type": "code",
   "execution_count": 11,
   "id": "f2699812",
   "metadata": {},
   "outputs": [],
   "source": [
    "dict1 = {\"name\": \"Kim\", \"age\":12}\n",
    "dict2 = {0:\"Kim\", 1:12}\n",
    "dict3 = {\"arr\": [1,2,3,4,5]}"
   ]
  },
  {
   "cell_type": "code",
   "execution_count": 2,
   "id": "4e6ba1cd",
   "metadata": {},
   "outputs": [
    {
     "name": "stdout",
     "output_type": "stream",
     "text": [
      "{'name': 'Kim', 'age': 12}\n",
      "Kim\n"
     ]
    }
   ],
   "source": [
    "print(dict1)\n",
    "print(dict1[\"name\"])"
   ]
  },
  {
   "cell_type": "code",
   "execution_count": 3,
   "id": "d378cbf5",
   "metadata": {},
   "outputs": [
    {
     "name": "stdout",
     "output_type": "stream",
     "text": [
      "{'arr': [1, 2, 3, 4, 5], 'rank': (16, 17, 18)}\n"
     ]
    }
   ],
   "source": [
    "# 추가 \n",
    "dict3[\"rank\"] = (16, 17, 18)\n",
    "print(dict3)"
   ]
  },
  {
   "cell_type": "code",
   "execution_count": 13,
   "id": "1edfab54",
   "metadata": {},
   "outputs": [
    {
     "name": "stdout",
     "output_type": "stream",
     "text": [
      "{1: 2, 2: 3, 3: 3, 4: 3, 5: 3, 6: 2, 7: 2, 8: 1, 9: 1}\n"
     ]
    }
   ],
   "source": [
    "# numbers 내부에 들어있는 숫자가 몇번 등장하는 지 dict 구조로 생성\n",
    "\n",
    "numbers = [1, 2, 3, 4, 5, 6, 7, 8, 9, 1, 2, 3, 4 , 5, 6, 5, 7 , 2, 3, 4]\n",
    "counter ={}\n",
    "\n",
    "# {1:3, 2:4, 6:1}\n",
    "\n",
    "for num in numbers:\n",
    "    counter[num] = numbers.count(num)\n",
    "\n",
    "print(counter)\n"
   ]
  },
  {
   "cell_type": "code",
   "execution_count": 7,
   "id": "e4aac5ac",
   "metadata": {},
   "outputs": [
    {
     "name": "stdout",
     "output_type": "stream",
     "text": [
      "{'name': 'Kim'}\n"
     ]
    }
   ],
   "source": [
    "# 삭제\n",
    "\n",
    "del dict1[\"age\"]\n",
    "print(dict1)\n"
   ]
  },
  {
   "cell_type": "code",
   "execution_count": null,
   "id": "888378a4",
   "metadata": {},
   "outputs": [
    {
     "name": "stdout",
     "output_type": "stream",
     "text": [
      "None\n"
     ]
    }
   ],
   "source": [
    "# get()\n",
    "\n",
    "# print(dict1[\"age\"])\n",
    "print(dict1.get(\"age\")) # None 딕셔너리 자겨올땐 get 추천"
   ]
  },
  {
   "cell_type": "code",
   "execution_count": null,
   "id": "d82cd93f",
   "metadata": {},
   "outputs": [
    {
     "name": "stdout",
     "output_type": "stream",
     "text": [
      "dict_keys(['name', 'age'])\n",
      "dict_values(['Kim', 12])\n",
      "dict_items([('name', 'Kim'), ('age', 12)])\n"
     ]
    }
   ],
   "source": [
    "# keys(), values(), items()\n",
    "\n",
    "print(dict1.keys())  # key 값 가져오기\n",
    "print(dict1.values())  # value 값 가져오기\n",
    "print(dict1.items())  # key, value 가져오기"
   ]
  },
  {
   "cell_type": "code",
   "execution_count": null,
   "id": "d5a6dead",
   "metadata": {},
   "outputs": [],
   "source": []
  }
 ],
 "metadata": {
  "kernelspec": {
   "display_name": "venv",
   "language": "python",
   "name": "python3"
  },
  "language_info": {
   "codemirror_mode": {
    "name": "ipython",
    "version": 3
   },
   "file_extension": ".py",
   "mimetype": "text/x-python",
   "name": "python",
   "nbconvert_exporter": "python",
   "pygments_lexer": "ipython3",
   "version": "3.13.3"
  }
 },
 "nbformat": 4,
 "nbformat_minor": 5
}
