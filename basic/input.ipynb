{
 "cells": [
  {
   "cell_type": "markdown",
   "id": "af7ddbf1",
   "metadata": {},
   "source": [
    "### 입력 : input()"
   ]
  },
  {
   "cell_type": "code",
   "execution_count": null,
   "id": "9107358f",
   "metadata": {},
   "outputs": [
    {
     "name": "stdout",
     "output_type": "stream",
     "text": [
      "<class 'str'>\n"
     ]
    }
   ],
   "source": [
    "num =input(\"숫자 입력\")\n",
    "print(type(num)) "
   ]
  },
  {
   "cell_type": "code",
   "execution_count": 3,
   "id": "e1c784c9",
   "metadata": {},
   "outputs": [
    {
     "name": "stdout",
     "output_type": "stream",
     "text": [
      "15\n"
     ]
    }
   ],
   "source": [
    "# int(문자열) \n",
    "\n",
    "print(int('15'))"
   ]
  },
  {
   "cell_type": "code",
   "execution_count": 4,
   "id": "d62146ea",
   "metadata": {},
   "outputs": [
    {
     "name": "stdout",
     "output_type": "stream",
     "text": [
      "<class 'int'>\n"
     ]
    }
   ],
   "source": [
    "num =input(\"숫자 입력\")\n",
    "print(type(int(num)))"
   ]
  },
  {
   "cell_type": "code",
   "execution_count": 7,
   "id": "16753d24",
   "metadata": {},
   "outputs": [
    {
     "name": "stdout",
     "output_type": "stream",
     "text": [
      "13\n"
     ]
    }
   ],
   "source": [
    "num1 = int(input(\"num1\"))\n",
    "num2 = int(input(\"num1\"))\n",
    "print(num1+num2)"
   ]
  },
  {
   "cell_type": "code",
   "execution_count": null,
   "id": "1e10e8cc",
   "metadata": {},
   "outputs": [
    {
     "name": "stdout",
     "output_type": "stream",
     "text": [
      "2030 / 10 / 30\n"
     ]
    }
   ],
   "source": [
    "# 사용자에게 2030/10/30 형태로 입력 받은 후 10년 후의 날짜를 계산 후 보여주기\n",
    "\n",
    "y = int(input(\"년도를 입력하세요\"))\n",
    "m = int(input(\"달을 입력하세요\"))\n",
    "d = int(input(\"일을 입력하세요\"))\n",
    "\n",
    "yy = y + 10\n",
    "\n",
    "print(yy,\"/\",m ,\"/\",d)"
   ]
  },
  {
   "cell_type": "code",
   "execution_count": 14,
   "id": "578357c6",
   "metadata": {},
   "outputs": [
    {
     "name": "stdout",
     "output_type": "stream",
     "text": [
      "1111/11/11\n",
      "입력한 날짜의 10년 후? 1121년11월11일\n"
     ]
    }
   ],
   "source": [
    "date1 = input(\"날짜입력(년/월/일)\")\n",
    "print(date1)\n",
    "\n",
    "pos = date1.find(\"/\")\n",
    "# print(pos)\n",
    "\n",
    "year=int(date1[:pos]) + 10\n",
    "# int + str : TypeError: unsupported operand type\n",
    "print(\"입력한 날짜의 10년 후? %s\" %(str(year) +\"년\"+ date1[5:7] +\"월\"+ date1[8:]+\"일\"))"
   ]
  },
  {
   "cell_type": "code",
   "execution_count": 18,
   "id": "39b883d5",
   "metadata": {},
   "outputs": [
    {
     "name": "stdout",
     "output_type": "stream",
     "text": [
      "['1111', '11', '11']\n",
      "1111\n",
      "11\n",
      "11\n",
      "입력한 날짜의 10년 후? 1121년11월11일\n"
     ]
    }
   ],
   "source": [
    "data = date1.split(\"/\")\n",
    "print(data)\n",
    "print(data[0])\n",
    "print(data[1])\n",
    "print(data[2])\n",
    "\n",
    "year = int(data[0]) + 10\n",
    "\n",
    "print(\"입력한 날짜의 10년 후? %s\" %(str(year) +\"년\"+ data[1] +\"월\"+ data[2]+\"일\"))\n",
    "\n"
   ]
  },
  {
   "cell_type": "code",
   "execution_count": 27,
   "id": "7adce072",
   "metadata": {},
   "outputs": [
    {
     "name": "stdout",
     "output_type": "stream",
     "text": [
      "nav51!\n"
     ]
    }
   ],
   "source": [
    "# http://naver.com\n",
    "url = \"http://naver.com\"\n",
    "\n",
    "# 암호 생성\n",
    "# 규칙1 : http:// 부분은 제외\n",
    "data= url[7:]\n",
    "\n",
    "# 규칙2 : 처음 나오는. 이후 부분은 제외\n",
    "data= data[:data.find(\".\")]\n",
    "\n",
    "# 규칙3 : 남은 글자 중 세 자리 + 글자 개수 + 글자 내 'e' 개수 + !로 구성\n",
    "result = data[:3] + str(len(data)) + str(data.count(\"e\")) + \"!\"\n",
    "\n",
    "print(result)\n"
   ]
  },
  {
   "cell_type": "code",
   "execution_count": null,
   "id": "15f7018c",
   "metadata": {},
   "outputs": [],
   "source": []
  }
 ],
 "metadata": {
  "kernelspec": {
   "display_name": "venv",
   "language": "python",
   "name": "python3"
  },
  "language_info": {
   "codemirror_mode": {
    "name": "ipython",
    "version": 3
   },
   "file_extension": ".py",
   "mimetype": "text/x-python",
   "name": "python",
   "nbconvert_exporter": "python",
   "pygments_lexer": "ipython3",
   "version": "3.13.3"
  }
 },
 "nbformat": 4,
 "nbformat_minor": 5
}
