{
 "cells": [
  {
   "cell_type": "markdown",
   "id": "01412867",
   "metadata": {},
   "source": [
    "### 제어문\n",
    "- if "
   ]
  },
  {
   "cell_type": "code",
   "execution_count": 1,
   "id": "e6320ddc",
   "metadata": {},
   "outputs": [],
   "source": [
    "a = 200\n",
    "if a < 100:\n",
    "    print(\"a 는 100보다 작다\")"
   ]
  },
  {
   "cell_type": "code",
   "execution_count": null,
   "id": "98151356",
   "metadata": {},
   "outputs": [
    {
     "name": "stdout",
     "output_type": "stream",
     "text": [
      "a 는 100보다 크고 300보다 작다\n"
     ]
    }
   ],
   "source": [
    "if 100 < a < 300:  # a > 100 and a < 300\n",
    "    print(\"a 는 100보다 크고 300보다 작다\")"
   ]
  },
  {
   "cell_type": "code",
   "execution_count": null,
   "id": "5d9bd791",
   "metadata": {},
   "outputs": [
    {
     "name": "stdout",
     "output_type": "stream",
     "text": [
      "가장 큰 수는 18\n"
     ]
    }
   ],
   "source": [
    "# a=12, b=6, c=18\n",
    "\n",
    "a=12\n",
    "b=6\n",
    "c=18\n",
    "\n",
    "max = a\n",
    "\n",
    "if max < b :\n",
    "    max = b\n",
    "if max < c:\n",
    "    max = c\n",
    "\n",
    "print(f\"가장 큰 수는 {max}\")\n"
   ]
  },
  {
   "cell_type": "code",
   "execution_count": null,
   "id": "6433b342",
   "metadata": {},
   "outputs": [],
   "source": [
    "score = 90"
   ]
  },
  {
   "cell_type": "code",
   "execution_count": 6,
   "id": "417357ad",
   "metadata": {},
   "outputs": [
    {
     "name": "stdout",
     "output_type": "stream",
     "text": [
      "홀수\n"
     ]
    }
   ],
   "source": [
    "# 사용자한테 입력받은 숫자가 짝, 홀 출력\n",
    "num = int(input(\"숫자입력 : \"))\n",
    "if num %2 == 0 :\n",
    "    print(\"짝수\")\n",
    "else:\n",
    "    print(\"홀수\")"
   ]
  },
  {
   "cell_type": "code",
   "execution_count": 7,
   "id": "33650494",
   "metadata": {},
   "outputs": [
    {
     "ename": "NameError",
     "evalue": "name 'score' is not defined",
     "output_type": "error",
     "traceback": [
      "\u001b[31m---------------------------------------------------------------------------\u001b[39m",
      "\u001b[31mNameError\u001b[39m                                 Traceback (most recent call last)",
      "\u001b[36mCell\u001b[39m\u001b[36m \u001b[39m\u001b[32mIn[7]\u001b[39m\u001b[32m, line 3\u001b[39m\n\u001b[32m      1\u001b[39m \u001b[38;5;66;03m# if ~ elif ~ else\u001b[39;00m\n\u001b[32m----> \u001b[39m\u001b[32m3\u001b[39m \u001b[38;5;28;01mif\u001b[39;00m \u001b[43mscore\u001b[49m >= \u001b[32m90\u001b[39m:\n\u001b[32m      4\u001b[39m     grade = \u001b[33m\"\u001b[39m\u001b[33mA\u001b[39m\u001b[33m\"\u001b[39m\n\u001b[32m      5\u001b[39m \u001b[38;5;28;01melif\u001b[39;00m score >= \u001b[32m80\u001b[39m:\n",
      "\u001b[31mNameError\u001b[39m: name 'score' is not defined"
     ]
    }
   ],
   "source": [
    "# if ~ elif ~ else\n",
    "\n",
    "if score >= 90:\n",
    "    grade = \"A\"\n",
    "elif score >= 80:\n",
    "    grade = \"B\"\n",
    "elif score >= 70:\n",
    "    grade = \"C\"\n",
    "elif score >= 60:\n",
    "    grade = \"D\"\n",
    "else:\n",
    "    grade = \"F\"\n",
    "\n",
    "\n",
    "    print(f\"등급 {grade}\")"
   ]
  },
  {
   "cell_type": "code",
   "execution_count": null,
   "id": "f4a6bd18",
   "metadata": {},
   "outputs": [
    {
     "name": "stdout",
     "output_type": "stream",
     "text": [
      " 1 + 1 = 2\n"
     ]
    }
   ],
   "source": [
    "# 숫자 2개 입력, 연산자(+, -, *, /, //, %) 입력\n",
    "# 계산기\n",
    "\n",
    "a= int(input(\"숫자를 입력해 주세요 \"))\n",
    "calc = input(\"연산자 +, -, *, /, //, % 중 하나를 입력하세요\")\n",
    "b= int(input(\"숫자를 입력해 주세요 \"))\n",
    "\n",
    "result = 0\n",
    "if calc == \"+\":\n",
    "    result = a+b\n",
    "elif clac == \"-\":\n",
    "    result =a-b\n",
    "elif clac == \"*\":\n",
    "    result =a*b\n",
    "elif clac == \"/\":\n",
    "    result =a/b\n",
    "elif clac == \"//\":\n",
    "    result =a//b\n",
    "elif clac == \"%\":\n",
    "    result =a%b\n",
    "else:\n",
    "    print(\"연산자 확인\")\n",
    "\n",
    "print(f\" {a} {calc} {b} = {result}\")"
   ]
  },
  {
   "cell_type": "code",
   "execution_count": null,
   "id": "b35a393f",
   "metadata": {},
   "outputs": [
    {
     "name": "stdout",
     "output_type": "stream",
     "text": [
      "True\n",
      "True\n"
     ]
    }
   ],
   "source": [
    "# x in 리스트 : x 가 리스트 안에 포함되어 있느냐?\n",
    "# x in 문자열 : x 가 문자열 안에 포함되어 있느냐?\n",
    "\n",
    "print(1 in [1, 2, 3])  # => 포함 여부\n",
    "print(\"a\" in \"abc\")"
   ]
  },
  {
   "cell_type": "code",
   "execution_count": 12,
   "id": "cbcc13c5",
   "metadata": {},
   "outputs": [
    {
     "data": {
      "text/plain": [
       "False"
      ]
     },
     "execution_count": 12,
     "metadata": {},
     "output_type": "execute_result"
    }
   ],
   "source": [
    "1 not in [1, 2, 3]"
   ]
  },
  {
   "cell_type": "code",
   "execution_count": 15,
   "id": "f84f25a4",
   "metadata": {},
   "outputs": [
    {
     "name": "stdout",
     "output_type": "stream",
     "text": [
      "money 있음\n"
     ]
    }
   ],
   "source": [
    "pocket = [\"paper\", \"money\", \"cellphone\"]\n",
    "if \"money\" in pocket:\n",
    "    print(\"money 있음\")"
   ]
  },
  {
   "cell_type": "code",
   "execution_count": null,
   "id": "eedaa9fb",
   "metadata": {},
   "outputs": [
    {
     "ename": "NameError",
     "evalue": "name 'score' is not defined",
     "output_type": "error",
     "traceback": [
      "\u001b[31m---------------------------------------------------------------------------\u001b[39m",
      "\u001b[31mNameError\u001b[39m                                 Traceback (most recent call last)",
      "\u001b[36mCell\u001b[39m\u001b[36m \u001b[39m\u001b[32mIn[16]\u001b[39m\u001b[32m, line 4\u001b[39m\n\u001b[32m      1\u001b[39m \u001b[38;5;66;03m# 파이썬에 삼항 연산자는(조건 ? 참 : 거짓) 없음\u001b[39;00m\n\u001b[32m      3\u001b[39m message = \u001b[33m\"\u001b[39m\u001b[33m\"\u001b[39m\n\u001b[32m----> \u001b[39m\u001b[32m4\u001b[39m \u001b[38;5;28;01mif\u001b[39;00m \u001b[43mscore\u001b[49m >= \u001b[32m60\u001b[39m:\n\u001b[32m      5\u001b[39m     message = \u001b[33m\"\u001b[39m\u001b[33msuccess\u001b[39m\u001b[33m\"\u001b[39m\n\u001b[32m      6\u001b[39m \u001b[38;5;28;01melse\u001b[39;00m:\n",
      "\u001b[31mNameError\u001b[39m: name 'score' is not defined"
     ]
    }
   ],
   "source": [
    "# 파이썬에 삼항 연산자는(조건 ? 참 : 거짓) 없음\n",
    "\n",
    "message = \"\"\n",
    "if score >= 60:\n",
    "    message = \"success\"\n",
    "else:\n",
    "    message = \"fail\"\n",
    "\n",
    "# 파이썬에서 사용하는 방식(조건부 표현식)\n",
    "message = \"success\" if score >= 60 else \"fail\""
   ]
  },
  {
   "cell_type": "markdown",
   "id": "6a64f77f",
   "metadata": {},
   "source": [
    "## 반복문\n",
    "- while\n",
    "- for"
   ]
  },
  {
   "cell_type": "code",
   "execution_count": 18,
   "id": "bc3c91bc",
   "metadata": {},
   "outputs": [
    {
     "name": "stdout",
     "output_type": "stream",
     "text": [
      "1 2 3 4 5 6 7 8 9 10 "
     ]
    }
   ],
   "source": [
    "i = 1\n",
    "while i < 11:\n",
    "    print(i, end=\" \")\n",
    "    # i++ (X)\n",
    "    i = i+1"
   ]
  },
  {
   "cell_type": "code",
   "execution_count": 22,
   "id": "caae96c5",
   "metadata": {},
   "outputs": [
    {
     "name": "stdout",
     "output_type": "stream",
     "text": [
      "1~100합 = 5150\n"
     ]
    }
   ],
   "source": [
    "# 1 ~ 100 합계\n",
    "i = 1\n",
    "hap =0\n",
    "while i < 101:\n",
    "    i += 1\n",
    "    hap += i\n",
    "print(f\"1~100합 = {hap}\")\n",
    "     \n",
    "\n"
   ]
  },
  {
   "cell_type": "code",
   "execution_count": 46,
   "id": "e4e39302",
   "metadata": {},
   "outputs": [
    {
     "name": "stdout",
     "output_type": "stream",
     "text": [
      "range(0, 5)\n"
     ]
    },
    {
     "ename": "TypeError",
     "evalue": "'list' object is not callable",
     "output_type": "error",
     "traceback": [
      "\u001b[31m---------------------------------------------------------------------------\u001b[39m",
      "\u001b[31mTypeError\u001b[39m                                 Traceback (most recent call last)",
      "\u001b[36mCell\u001b[39m\u001b[36m \u001b[39m\u001b[32mIn[46]\u001b[39m\u001b[32m, line 6\u001b[39m\n\u001b[32m      1\u001b[39m \u001b[38;5;66;03m# sum() : 파이썬엔 sum 함수 존재\u001b[39;00m\n\u001b[32m      5\u001b[39m \u001b[38;5;28mprint\u001b[39m(\u001b[38;5;28mrange\u001b[39m(\u001b[32m5\u001b[39m))\n\u001b[32m----> \u001b[39m\u001b[32m6\u001b[39m \u001b[38;5;28mprint\u001b[39m(\u001b[38;5;28;43mlist\u001b[39;49m\u001b[43m(\u001b[49m\u001b[38;5;28;43mrange\u001b[39;49m\u001b[43m(\u001b[49m\u001b[32;43m5\u001b[39;49m\u001b[43m)\u001b[49m\u001b[43m)\u001b[49m)\n\u001b[32m      7\u001b[39m \u001b[38;5;28mprint\u001b[39m(\u001b[38;5;28msum\u001b[39m(\u001b[38;5;28mrange\u001b[39m(\u001b[32m5\u001b[39m)))\n\u001b[32m      8\u001b[39m \u001b[38;5;28mprint\u001b[39m(\u001b[38;5;28msum\u001b[39m(\u001b[38;5;28mrange\u001b[39m(\u001b[32m101\u001b[39m)))\n",
      "\u001b[31mTypeError\u001b[39m: 'list' object is not callable"
     ]
    }
   ],
   "source": [
    "# sum() : 파이썬엔 sum 함수 존재\n",
    "\n",
    "\n",
    "\n",
    "print(range(5))\n",
    "print(list(range(5)))\n",
    "print(sum(range(5)))\n",
    "print(sum(range(101)))\n",
    "print(sum(range(1, 101)))\n",
    "print(sum(range(1, 101, 2))) # 1, 3, 5 .... 홀수합\n",
    "\n"
   ]
  },
  {
   "cell_type": "code",
   "execution_count": 30,
   "id": "5ef5c9c8",
   "metadata": {},
   "outputs": [
    {
     "name": "stdout",
     "output_type": "stream",
     "text": [
      "0 1 2 3 4 5 6 7 8 9 "
     ]
    }
   ],
   "source": [
    "for i in range(10):\n",
    "    print(i, end=\" \")"
   ]
  },
  {
   "cell_type": "code",
   "execution_count": 31,
   "id": "4042637d",
   "metadata": {},
   "outputs": [
    {
     "name": "stdout",
     "output_type": "stream",
     "text": [
      "1 3 5 7 9 11 13 15 17 19 21 23 25 27 29 31 33 35 37 39 41 43 45 47 49 51 53 55 57 59 61 63 65 67 69 71 73 75 77 79 81 83 85 87 89 91 93 95 97 99 "
     ]
    }
   ],
   "source": [
    "for i in range(1, 101, 2):\n",
    "    print(i, end=\" \")"
   ]
  },
  {
   "cell_type": "code",
   "execution_count": 37,
   "id": "972ce458",
   "metadata": {},
   "outputs": [
    {
     "name": "stdout",
     "output_type": "stream",
     "text": [
      "66\n"
     ]
    }
   ],
   "source": [
    "# 1 ~ 사용자가 입력한 숫자까지 합계 구하기\n",
    "a= int(input(\"숫자를 입력하세요\"))\n",
    "\n",
    "hap= 0\n",
    "for i in range(1, a+1):\n",
    "    hap += i\n",
    "\n",
    "print(hap) "
   ]
  },
  {
   "cell_type": "code",
   "execution_count": 38,
   "id": "ed3dbc90",
   "metadata": {},
   "outputs": [
    {
     "name": "stdout",
     "output_type": "stream",
     "text": [
      "5 4 3 2 1 0 "
     ]
    }
   ],
   "source": [
    "for i in range(5, -1, -1):\n",
    "    print(i, end=\" \")"
   ]
  },
  {
   "cell_type": "code",
   "execution_count": 40,
   "id": "71163435",
   "metadata": {},
   "outputs": [
    {
     "name": "stdout",
     "output_type": "stream",
     "text": [
      "사과\n",
      "딸기\n",
      "바나나\n",
      "포토\n"
     ]
    }
   ],
   "source": [
    "list1 = [\"사과\", \"딸기\", \"바나나\", \"포토\"]\n",
    "\n",
    "# 리스트 출력\n",
    "for fruit in list1:\n",
    "    print(fruit)"
   ]
  },
  {
   "cell_type": "code",
   "execution_count": null,
   "id": "05dc5b5c",
   "metadata": {},
   "outputs": [
    {
     "name": "stdout",
     "output_type": "stream",
     "text": [
      "사과\n",
      "0 사과\n",
      "딸기\n",
      "1 딸기\n",
      "바나나\n",
      "2 바나나\n",
      "포토\n",
      "3 포토\n"
     ]
    }
   ],
   "source": [
    "# tuple : (0, '사과')\n",
    "\n",
    "# enumerate(리스트, 문자열, set, 튜플, 딕셔너리)\n",
    "\n",
    "for inx,fruit in enumerate(list1):\n",
    "    print(fruit)\n",
    "    print(inx, fruit)\n"
   ]
  },
  {
   "cell_type": "code",
   "execution_count": 43,
   "id": "72cce861",
   "metadata": {},
   "outputs": [
    {
     "name": "stdout",
     "output_type": "stream",
     "text": [
      "평균 : 77.50\n"
     ]
    }
   ],
   "source": [
    "a_class = [70, 60, 55, 75, 95, 80, 85, 100]\n",
    "\n",
    "# a_class 의 중간고사 점수에 대해서 평균 구하기\n",
    "total = 0\n",
    "for num in a_class:\n",
    "    total+=num\n",
    "\n",
    "print(\"평균 : %.2f\" % (total / len(a_class)))\n",
    "\n"
   ]
  },
  {
   "cell_type": "code",
   "execution_count": 48,
   "id": "e4a4800f",
   "metadata": {},
   "outputs": [
    {
     "data": {
      "text/plain": [
       "620"
      ]
     },
     "execution_count": 48,
     "metadata": {},
     "output_type": "execute_result"
    }
   ],
   "source": [
    "\n",
    "\n",
    "sum(a_class)"
   ]
  },
  {
   "cell_type": "code",
   "execution_count": null,
   "id": "95375119",
   "metadata": {},
   "outputs": [],
   "source": []
  }
 ],
 "metadata": {
  "kernelspec": {
   "display_name": "venv",
   "language": "python",
   "name": "python3"
  },
  "language_info": {
   "codemirror_mode": {
    "name": "ipython",
    "version": 3
   },
   "file_extension": ".py",
   "mimetype": "text/x-python",
   "name": "python",
   "nbconvert_exporter": "python",
   "pygments_lexer": "ipython3",
   "version": "3.13.3"
  }
 },
 "nbformat": 4,
 "nbformat_minor": 5
}
