{
 "cells": [
  {
   "cell_type": "code",
   "execution_count": null,
   "id": "6c43ba98",
   "metadata": {},
   "outputs": [],
   "source": [
    "class UserInfo:\n",
    "    # self : 인스턴스 메소드이 때 \n",
    "    def user_info(self):\n",
    "        print(\"메소드 실행\")"
   ]
  },
  {
   "cell_type": "code",
   "execution_count": 2,
   "id": "072c170c",
   "metadata": {},
   "outputs": [
    {
     "name": "stdout",
     "output_type": "stream",
     "text": [
      "메소드 실행\n"
     ]
    }
   ],
   "source": [
    "#객체 생성\n",
    "user1 = UserInfo()\n",
    "user1.user_info()"
   ]
  },
  {
   "cell_type": "code",
   "execution_count": 10,
   "id": "4b938c93",
   "metadata": {},
   "outputs": [],
   "source": [
    "class Car:\n",
    "    color = \"\"\n",
    "    speed = 0\n",
    "\n",
    "    def upSpeed(self, value):\n",
    "        self.speed += value\n",
    "\n",
    "    def downSpeed(self, value):\n",
    "        self.speed -= value\n",
    "    \n",
    "    def __str__(self):  # java toString()\n",
    "        return f\"color {self.color}, speed {self.speed}\""
   ]
  },
  {
   "cell_type": "code",
   "execution_count": 11,
   "id": "ef1a0a4d",
   "metadata": {},
   "outputs": [
    {
     "name": "stdout",
     "output_type": "stream",
     "text": [
      "myCar1 color Red, speed 10 color Red speed 10\n",
      "myCar2 color Blue, speed 50 color Blue speed 50\n"
     ]
    }
   ],
   "source": [
    "myCar1 = Car()\n",
    "myCar1.speed = 10\n",
    "myCar1.color = \"Red\"\n",
    "print(f\"myCar1 {myCar1} color {myCar1.color} speed {myCar1.speed}\")\n",
    "\n",
    "myCar2 = Car()\n",
    "myCar2.speed = 50\n",
    "myCar2.color = \"Blue\"\n",
    "print(f\"myCar2 {myCar2} color {myCar2.color} speed {myCar2.speed}\")\n"
   ]
  },
  {
   "cell_type": "code",
   "execution_count": 12,
   "id": "e61f4991",
   "metadata": {},
   "outputs": [],
   "source": [
    "class UserInfo:\n",
    "    # 생성자 \n",
    "    def __init__(self):\n",
    "        self.name = \"홍길동\"\n",
    "        self.age = 25\n",
    "\n",
    "\n",
    "    def user_info(self):\n",
    "        print(\"메소드 실행\")\n",
    "\n",
    "\n",
    "    def __str__(self):\n",
    "        return f\"name : {self.name}, age : {self.age}\""
   ]
  },
  {
   "cell_type": "code",
   "execution_count": 13,
   "id": "37239cd5",
   "metadata": {},
   "outputs": [
    {
     "name": "stdout",
     "output_type": "stream",
     "text": [
      "name : 홍길동, age : 25\n"
     ]
    }
   ],
   "source": [
    "info = UserInfo()\n",
    "print(info)"
   ]
  },
  {
   "cell_type": "code",
   "execution_count": 17,
   "id": "7b4f6a09",
   "metadata": {},
   "outputs": [],
   "source": [
    "class UserInfo:\n",
    "    # 생성자 \n",
    "    def __init__(self, name=\"홍길동\", age=25):\n",
    "        self.name = name\n",
    "        self.age = age\n",
    "\n",
    "\n",
    "    def user_info(self):\n",
    "        print(\"메소드 실행\")\n",
    "\n",
    "\n",
    "    def __str__(self):\n",
    "        return f\"name : {self.name}, age : {self.age}\""
   ]
  },
  {
   "cell_type": "code",
   "execution_count": 18,
   "id": "b7dc7fcf",
   "metadata": {},
   "outputs": [
    {
     "name": "stdout",
     "output_type": "stream",
     "text": [
      "name : 김종원, age : 30\n"
     ]
    }
   ],
   "source": [
    "info = UserInfo(\"김종원\", 30)\n",
    "print(info)"
   ]
  },
  {
   "cell_type": "code",
   "execution_count": 19,
   "id": "9bd3769e",
   "metadata": {},
   "outputs": [],
   "source": [
    "class Car:\n",
    "    def __init__(self, color, speed):\n",
    "        self.color = color\n",
    "        self.speed = speed\n",
    "\n",
    "    def upSpeed(self, value):\n",
    "        self.speed += value\n",
    "\n",
    "    def downSpeed(self, value):\n",
    "        self.speed -= value\n",
    "    \n",
    "    def __str__(self):  # java toString()\n",
    "        return f\"color {self.color}, speed {self.speed}\""
   ]
  },
  {
   "cell_type": "code",
   "execution_count": 20,
   "id": "ea7e4430",
   "metadata": {},
   "outputs": [
    {
     "name": "stdout",
     "output_type": "stream",
     "text": [
      "color Red, speed 50\n",
      "color Black, speed 100\n"
     ]
    }
   ],
   "source": [
    "myCar1 = Car(\"Red\", 50)\n",
    "myCar2 = Car(\"Black\", 100)\n",
    "\n",
    "print(myCar1)\n",
    "print(myCar2)"
   ]
  },
  {
   "cell_type": "code",
   "execution_count": null,
   "id": "446acda2",
   "metadata": {},
   "outputs": [],
   "source": [
    "class UserInfo:\n",
    "    # 생성자 오버로딩은 없음\n",
    "    # 초기값 이용해서 오버로딩 처리\n",
    "    def __init__(self, name, age, email=None):\n",
    "        self.name = name\n",
    "        self.age = age\n",
    "        self.email = email\n",
    "\n",
    "\n",
    "    def user_info(self):\n",
    "        print(\"메소드 실행\")\n",
    "\n",
    "\n",
    "    def __str__(self):\n",
    "        return f\"name : {self.name}, age : {self.age}, email : {self.email}\""
   ]
  },
  {
   "cell_type": "code",
   "execution_count": 24,
   "id": "0c62d246",
   "metadata": {},
   "outputs": [],
   "source": [
    "info1 = UserInfo(\"홍길동\", \"30\")\n",
    "info2 = UserInfo(\"성춘향\", \"20\", \"test@naver.com\")"
   ]
  },
  {
   "cell_type": "code",
   "execution_count": null,
   "id": "65100dc5",
   "metadata": {},
   "outputs": [],
   "source": [
    "# 클래스 변수 , 클래스 메소드 : static(자바)\n",
    "# 인스턴스 변수, 인스턴스 메소드 : self\n",
    "\n",
    "class UserInfo:\n",
    "\n",
    "    userCnt = 0\n",
    "\n",
    "    # 생성자 오버로딩은 없음\n",
    "    # 초기값 이용해서 오버로딩 처리\n",
    "    def __init__(self, name, age, email=None):\n",
    "        self.name = name\n",
    "        self.age = age\n",
    "        self.email = email\n",
    "\n",
    "        UserInfo.userCnt += 1\n",
    "\n",
    "\n",
    "    def user_info(self):\n",
    "        print(\"메소드 실행\")\n",
    "\n",
    "\n",
    "    def __str__(self):\n",
    "        return f\"name : {self.name}, age : {self.age}, email : {self.email}\"\n",
    "\n",
    "\n",
    "    def __del__(self): # del \n",
    "        UserInfo.userCnt -= 1\n",
    "\n",
    "\n"
   ]
  },
  {
   "cell_type": "code",
   "execution_count": 28,
   "id": "54c79432",
   "metadata": {},
   "outputs": [
    {
     "name": "stdout",
     "output_type": "stream",
     "text": [
      "생성된 user 수 1\n"
     ]
    }
   ],
   "source": [
    "info1 = UserInfo(\"홍길동\", \"30\")\n",
    "info1 = UserInfo(\"성춘향\", \"20\", \"test@naver.com\")\n",
    "\n",
    "print(f\"생성된 user 수 {UserInfo.userCnt}\")\n"
   ]
  },
  {
   "cell_type": "code",
   "execution_count": 29,
   "id": "d2b7b666",
   "metadata": {},
   "outputs": [
    {
     "name": "stdout",
     "output_type": "stream",
     "text": [
      "생성된 user 수 0\n"
     ]
    }
   ],
   "source": [
    "del info1 \n",
    "print(f\"생성된 user 수 {UserInfo.userCnt}\")"
   ]
  },
  {
   "cell_type": "code",
   "execution_count": 35,
   "id": "cbd7b88f",
   "metadata": {},
   "outputs": [],
   "source": [
    "class SelfTest():  # 클래스 선언할 때 괄호는 있엇도 되고 없어도 됨\n",
    "    # class method : self가 없으면 클래스 메서드로 인식\n",
    "    @classmethod\n",
    "    def function1(cls):\n",
    "        print(\"function1\")\n",
    "\n",
    "    def function2(self):\n",
    "        print(\"function2\")\n"
   ]
  },
  {
   "cell_type": "code",
   "execution_count": 36,
   "id": "2e5fb4a6",
   "metadata": {},
   "outputs": [
    {
     "name": "stdout",
     "output_type": "stream",
     "text": [
      "function1\n",
      "function2\n"
     ]
    }
   ],
   "source": [
    "test1 = SelfTest()\n",
    "# test1.function1()\n",
    "SelfTest.function1()\n",
    "test1.function2()"
   ]
  },
  {
   "cell_type": "code",
   "execution_count": 37,
   "id": "ffb2fe86",
   "metadata": {},
   "outputs": [],
   "source": [
    "# Calc\n",
    "# 4 개의 method\n",
    "# 생성자(num1, num2),  4개 (사칙연산)\n",
    "\n",
    "\n",
    "class Calc():\n",
    "    def __init__(self, num1 = 0, num2 = 0):\n",
    "        self.num1 = num1\n",
    "        self.num2 = num2\n",
    "\n",
    "    def sum(self):\n",
    "        return self.num1 + self.num2\n",
    "\n",
    "    def sub(self):\n",
    "        return self.num1 - self.num2\n",
    "\n",
    "    def mul(self):\n",
    "        return self.num1 * self.num2\n",
    "\n",
    "    def div(self):\n",
    "        return self.num1 / self.num2\n"
   ]
  },
  {
   "cell_type": "code",
   "execution_count": 39,
   "id": "d264d7bc",
   "metadata": {},
   "outputs": [
    {
     "name": "stdout",
     "output_type": "stream",
     "text": [
      "10 + 5 = 15\n",
      "10 - 5 = 5\n",
      "10 x 5 = 50\n",
      "10 / 5 = 2.0\n"
     ]
    }
   ],
   "source": [
    "a, b = 10, 5\n",
    "\n",
    "calc = Calc(a, b)\n",
    "print(f\"{a} + {b} = {calc.sum()}\")\n",
    "print(f\"{a} - {b} = {calc.sub()}\")\n",
    "print(f\"{a} x {b} = {calc.mul()}\")\n",
    "print(f\"{a} / {b} = {calc.div()}\")"
   ]
  },
  {
   "cell_type": "code",
   "execution_count": 40,
   "id": "61b682c6",
   "metadata": {},
   "outputs": [],
   "source": [
    "# Account \n",
    "# 멤머변수 : ano, name, balance\n",
    "# 메소드 : withdraw, deposit\n",
    "# __str__ : name, balance\n",
    "\n",
    "class Account:\n",
    "    def __init__(self, ano, name, balance):\n",
    "        self.ano  = ano\n",
    "        self.name = name\n",
    "        self.balance = balance\n",
    "\n",
    "    def withdraw(self, amount):\n",
    "        self.balance -= amount\n",
    "        return self.balance\n",
    "\n",
    "    def deposit(self, amount):\n",
    "        self.balance += amount\n",
    "        return self.balance\n",
    "\n",
    "    def __str__(self):\n",
    "        return f\"{self.name} : {self.balance}\"\n",
    "        "
   ]
  },
  {
   "cell_type": "code",
   "execution_count": 41,
   "id": "33219c36",
   "metadata": {},
   "outputs": [
    {
     "name": "stdout",
     "output_type": "stream",
     "text": [
      "홍길동 : 3000000\n",
      "3050000\n",
      "2900000\n"
     ]
    }
   ],
   "source": [
    "user1 = Account(\"1111-22-333\", \"홍길동\", 3000000)\n",
    "print(user1)\n",
    "# 예금\n",
    "print(user1.deposit(50000))\n",
    "# 출금\n",
    "print(user1.withdraw(150000))"
   ]
  },
  {
   "cell_type": "code",
   "execution_count": 42,
   "id": "bca8de39",
   "metadata": {},
   "outputs": [],
   "source": [
    "# 상속\n",
    "\n",
    "class Parent:\n",
    "    def __init__(self):\n",
    "        self.value = \"테스트\"\n",
    "        print(\"parent 클래스 __init__ 실행\")\n",
    "\n",
    "    def test(self):\n",
    "        print(\"parent 클래스 test 실행\")\n",
    "\n",
    "class Child(Parent):\n",
    "    def __init__(self):\n",
    "        super().__init__()\n",
    "        print(\"Child 클래스의 __init__ 실행\")"
   ]
  },
  {
   "cell_type": "code",
   "execution_count": 44,
   "id": "5927b73e",
   "metadata": {},
   "outputs": [
    {
     "name": "stdout",
     "output_type": "stream",
     "text": [
      "parent 클래스 __init__ 실행\n",
      "Child 클래스의 __init__ 실행\n",
      "parent 클래스 test 실행\n",
      "테스트\n"
     ]
    }
   ],
   "source": [
    "child = Child()   # 객체 생성\n",
    "child.test()\n",
    "print(child.value)"
   ]
  },
  {
   "cell_type": "code",
   "execution_count": 46,
   "id": "b49a02bc",
   "metadata": {},
   "outputs": [],
   "source": [
    "class AudioVisual:\n",
    "    def __init__(self, power, volume):\n",
    "        self.power = power\n",
    "        self.volume = volume\n",
    "\n",
    "    def switch(self, on_off):\n",
    "        self.power = on_off\n",
    "\n",
    "    def set_volume(self, vol):\n",
    "        self.volume = vol\n",
    "\n",
    "class Audio(AudioVisual):\n",
    "    def __init__(self, power, volume):\n",
    "        super().__init__(power, volume)\n",
    "\n",
    "    def tune(self):\n",
    "        str = \"La la la ....\" if self.power else \"turn it on\"\n",
    "        print(str)\n",
    "\n",
    "\n",
    "class Tv(AudioVisual):\n",
    "    def __init__(self, power, volume, size):\n",
    "        super().__init__(power, volume)\n",
    "        self.size = size\n",
    "\n",
    "    def watch(self):\n",
    "        str = \"have fun!!!\" if self.power else \"switch on\"\n",
    "        print(str)\n",
    "\n",
    "\n"
   ]
  },
  {
   "cell_type": "code",
   "execution_count": 47,
   "id": "ac56113e",
   "metadata": {},
   "outputs": [
    {
     "name": "stdout",
     "output_type": "stream",
     "text": [
      "have fun!!!\n"
     ]
    }
   ],
   "source": [
    "tv = Tv(False, 12, 52)\n",
    "tv.switch(True)\n",
    "tv.watch()\n"
   ]
  },
  {
   "cell_type": "code",
   "execution_count": 50,
   "id": "97a7c09c",
   "metadata": {},
   "outputs": [],
   "source": [
    "# 오버라이딩\n",
    "\n",
    "class Parent:\n",
    "    def __init__(self):\n",
    "        self.value = \"테스트\"\n",
    "        print(\"parent 클래스 __init__ 실행\")\n",
    "\n",
    "    def func1(self):\n",
    "        print(\"parent 클래스 func1 실행\")\n",
    "\n",
    "    def func2(self):\n",
    "        print(\"parent 클래스 func2 실행\")\n",
    "\n",
    "class Child(Parent):\n",
    "    def __init__(self):\n",
    "        super().__init__()\n",
    "        print(\"Child 클래스의 __init__ 실행\")\n",
    "\n",
    "    def func1(self):\n",
    "        print(\"child 클래스 func1 실행\")\n",
    "\n",
    "    def func3(self):\n",
    "        print(\"child 클래스 func3 실행\")"
   ]
  },
  {
   "cell_type": "code",
   "execution_count": 51,
   "id": "a80ca198",
   "metadata": {},
   "outputs": [
    {
     "name": "stdout",
     "output_type": "stream",
     "text": [
      "parent 클래스 __init__ 실행\n",
      "parent 클래스 __init__ 실행\n",
      "Child 클래스의 __init__ 실행\n",
      "parent 클래스 func1 실행\n",
      "child 클래스 func1 실행\n"
     ]
    }
   ],
   "source": [
    "parent = Parent()\n",
    "child = Child()\n",
    "\n",
    "parent.func1()\n",
    "child.func1()"
   ]
  },
  {
   "cell_type": "code",
   "execution_count": 58,
   "id": "c089dff1",
   "metadata": {},
   "outputs": [],
   "source": [
    "# private : __ \n",
    "import math\n",
    "\n",
    "class Circle:\n",
    "    def __init__(self, radius):\n",
    "        self.__radius = radius\n",
    "\n",
    "        # getter / setter \n",
    "    def get_circumference(self):\n",
    "        return 2 * math.pi * self.__radius\n",
    " \n",
    "    def get_circle_area(self):\n",
    "        return math.pi * (self.__radius ** 2)\n",
    "\n",
    "    def get_radius(self):\n",
    "        return self.__radius\n",
    "\n",
    "    def set_radius(self, radius):\n",
    "        self.__radius = radius\n",
    "\n"
   ]
  },
  {
   "cell_type": "code",
   "execution_count": 60,
   "id": "8edcbe73",
   "metadata": {},
   "outputs": [
    {
     "name": "stdout",
     "output_type": "stream",
     "text": [
      "원 둘레 62.83185307179586\n",
      "원 면적 314.1592653589793\n",
      "10\n"
     ]
    }
   ],
   "source": [
    "circle = Circle(10)\n",
    "print(f\"원 둘레 {circle.get_circumference()}\")\n",
    "print(f\"원 면적 {circle.get_circle_area()}\")\n",
    "# print(circle.__radius)\n",
    "print(circle.get_radius())"
   ]
  },
  {
   "cell_type": "code",
   "execution_count": null,
   "id": "693cbeae",
   "metadata": {},
   "outputs": [],
   "source": []
  }
 ],
 "metadata": {
  "kernelspec": {
   "display_name": "venv",
   "language": "python",
   "name": "python3"
  },
  "language_info": {
   "codemirror_mode": {
    "name": "ipython",
    "version": 3
   },
   "file_extension": ".py",
   "mimetype": "text/x-python",
   "name": "python",
   "nbconvert_exporter": "python",
   "pygments_lexer": "ipython3",
   "version": "3.13.3"
  }
 },
 "nbformat": 4,
 "nbformat_minor": 5
}
