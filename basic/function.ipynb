{
 "cells": [
  {
   "cell_type": "markdown",
   "id": "7487fe85",
   "metadata": {},
   "source": [
    "### 함수 \n",
    "```\n",
    "    def 함수명(매개변수):\n",
    "        수행할문장1\n",
    "        수행할문장2\n",
    "```\n"
   ]
  },
  {
   "cell_type": "code",
   "execution_count": 1,
   "id": "aba8f381",
   "metadata": {},
   "outputs": [],
   "source": [
    "def add(a, b):\n",
    "    return a + b"
   ]
  },
  {
   "cell_type": "code",
   "execution_count": 2,
   "id": "3aeb779f",
   "metadata": {},
   "outputs": [
    {
     "name": "stdout",
     "output_type": "stream",
     "text": [
      "11\n"
     ]
    }
   ],
   "source": [
    "print(add(5, 6))"
   ]
  },
  {
   "cell_type": "code",
   "execution_count": 3,
   "id": "def3eead",
   "metadata": {},
   "outputs": [
    {
     "name": "stdout",
     "output_type": "stream",
     "text": [
      "Hi\n"
     ]
    }
   ],
   "source": [
    "def say():\n",
    "    return \"Hi\"\n",
    "\n",
    "print(say())"
   ]
  },
  {
   "cell_type": "code",
   "execution_count": 4,
   "id": "7cbae534",
   "metadata": {},
   "outputs": [
    {
     "name": "stdout",
     "output_type": "stream",
     "text": [
      "12\n"
     ]
    }
   ],
   "source": [
    "print(add(a=7, b=5))"
   ]
  },
  {
   "cell_type": "code",
   "execution_count": 5,
   "id": "2cfc1150",
   "metadata": {},
   "outputs": [],
   "source": [
    "# 기본 매개변수\n",
    "\n",
    "def print_n_times(value, n=2):\n",
    "    for i in range(n):\n",
    "        print(value)"
   ]
  },
  {
   "cell_type": "code",
   "execution_count": null,
   "id": "d821586d",
   "metadata": {},
   "outputs": [],
   "source": [
    "# 가변 매개변수 -> * 을 붙이면 가변/ args 는 그냥 일반적으로 사용하는 매개변수 \n",
    "# 가변 매개변수 뒤에는 일반 매개변수가 올 수 없음(가변 매개변수는 마지막에 선언)\n",
    "# 가변 매개변수는 하나만 사용\n",
    "\n",
    "def add_many(*args):\n",
    "    print(args)"
   ]
  },
  {
   "cell_type": "code",
   "execution_count": 13,
   "id": "c0bbfdc2",
   "metadata": {},
   "outputs": [
    {
     "name": "stdout",
     "output_type": "stream",
     "text": [
      "()\n",
      "('35', '24', '45')\n",
      "('A', 'b', 'C', 'D')\n",
      "([1, 2, 3, 4, 5],)\n",
      "([1, 2, 3, 4, 5], 33)\n"
     ]
    }
   ],
   "source": [
    "add_many()\n",
    "add_many(\"35\", \"24\", \"45\")\n",
    "add_many(\"A\", \"b\", \"C\", \"D\")\n",
    "add_many([1, 2, 3, 4, 5])\n",
    "add_many([1, 2, 3, 4, 5], 33)"
   ]
  },
  {
   "cell_type": "code",
   "execution_count": 14,
   "id": "14e9fc45",
   "metadata": {},
   "outputs": [],
   "source": [
    "def add_mul(choice, *args):\n",
    "    if choice == \"add\":\n",
    "        result = 0\n",
    "        for i in args:\n",
    "            result = result + i\n",
    "    elif choice == \"mul\": \n",
    "        result = 1\n",
    "        for i in args:\n",
    "            result = result + i\n",
    "    return result"
   ]
  },
  {
   "cell_type": "code",
   "execution_count": 15,
   "id": "214aa56b",
   "metadata": {},
   "outputs": [
    {
     "name": "stdout",
     "output_type": "stream",
     "text": [
      "46\n",
      "47\n"
     ]
    }
   ],
   "source": [
    "print(add_mul(\"add\", 10, 11, 12, 13))\n",
    "print(add_mul(\"mul\", 10, 11, 12, 13))"
   ]
  },
  {
   "cell_type": "code",
   "execution_count": 16,
   "id": "a485db79",
   "metadata": {},
   "outputs": [
    {
     "ename": "SyntaxError",
     "evalue": "invalid syntax (2755961406.py, line 6)",
     "output_type": "error",
     "traceback": [
      "  \u001b[36mCell\u001b[39m\u001b[36m \u001b[39m\u001b[32mIn[16]\u001b[39m\u001b[32m, line 6\u001b[39m\n\u001b[31m    \u001b[39m\u001b[31mfor k in\u001b[39m\n             ^\n\u001b[31mSyntaxError\u001b[39m\u001b[31m:\u001b[39m invalid syntax\n"
     ]
    }
   ],
   "source": [
    "# 키워드 매개변수 : **kwargs\n",
    "# 매개변수를 딕셔너리 형태로 처리\n",
    "\n",
    "def args_func1(**kwargs):\n",
    "    print(kwargs)\n",
    "    for k in "
   ]
  },
  {
   "cell_type": "code",
   "execution_count": 17,
   "id": "5a80e4c9",
   "metadata": {},
   "outputs": [
    {
     "ename": "NameError",
     "evalue": "name 'args_func1' is not defined",
     "output_type": "error",
     "traceback": [
      "\u001b[31m---------------------------------------------------------------------------\u001b[39m",
      "\u001b[31mNameError\u001b[39m                                 Traceback (most recent call last)",
      "\u001b[36mCell\u001b[39m\u001b[36m \u001b[39m\u001b[32mIn[17]\u001b[39m\u001b[32m, line 1\u001b[39m\n\u001b[32m----> \u001b[39m\u001b[32m1\u001b[39m \u001b[43margs_func1\u001b[49m(name+\u001b[33m\"\u001b[39m\u001b[33mKim\u001b[39m\u001b[33m\"\u001b[39m)\n\u001b[32m      2\u001b[39m args_func1(name+\u001b[33m\"\u001b[39m\u001b[33mKim\u001b[39m\u001b[33m\"\u001b[39m, age = \u001b[32m15\u001b[39m, active=\u001b[33m\"\u001b[39m\u001b[33mTest\u001b[39m\u001b[33m\"\u001b[39m)\n\u001b[32m      3\u001b[39m args_func1(name+\u001b[33m\"\u001b[39m\u001b[33mKim\u001b[39m\u001b[33m\"\u001b[39m, year=\u001b[32m2025\u001b[39m)\n",
      "\u001b[31mNameError\u001b[39m: name 'args_func1' is not defined"
     ]
    }
   ],
   "source": [
    "args_func1(name+\"Kim\")\n",
    "args_func1(name+\"Kim\", age = 15, active=\"Test\")\n",
    "args_func1(name+\"Kim\", year=2025)"
   ]
  },
  {
   "cell_type": "code",
   "execution_count": 18,
   "id": "34b75886",
   "metadata": {},
   "outputs": [],
   "source": [
    "def example_mul(arg1, arg2=5, *args, **kwargs):\n",
    "    print(arg1, arg2, args, kwargs)"
   ]
  },
  {
   "cell_type": "code",
   "execution_count": 19,
   "id": "331a7517",
   "metadata": {},
   "outputs": [
    {
     "name": "stdout",
     "output_type": "stream",
     "text": [
      "10 20 () {}\n",
      "10 5 () {}\n",
      "10 15 ('park', 'kim') {}\n",
      "10 15 ('park', 'kim') {'age': 25, 'name': 'choi'}\n"
     ]
    }
   ],
   "source": [
    "example_mul(10, 20)\n",
    "example_mul(10)\n",
    "example_mul(10, 15, \"park\", \"kim\")\n",
    "example_mul(10, 15, \"park\", \"kim\", age= 25, name=\"choi\")"
   ]
  },
  {
   "cell_type": "code",
   "execution_count": 20,
   "id": "7f8d0135",
   "metadata": {},
   "outputs": [],
   "source": [
    "# 다중 리턴\n",
    "\n",
    "def func(a, b):\n",
    "    return a+b, a*b"
   ]
  },
  {
   "cell_type": "code",
   "execution_count": 21,
   "id": "429c92b8",
   "metadata": {},
   "outputs": [
    {
     "name": "stdout",
     "output_type": "stream",
     "text": [
      "(11, 30)\n"
     ]
    }
   ],
   "source": [
    "print(func(5, 6))"
   ]
  },
  {
   "cell_type": "code",
   "execution_count": 22,
   "id": "4035747d",
   "metadata": {},
   "outputs": [],
   "source": [
    "def func2(a, b):\n",
    "    return [a+b, a*b, a-b]\n"
   ]
  },
  {
   "cell_type": "code",
   "execution_count": 23,
   "id": "28d32f07",
   "metadata": {},
   "outputs": [
    {
     "name": "stdout",
     "output_type": "stream",
     "text": [
      "[17, 66, 5]\n"
     ]
    }
   ],
   "source": [
    "print(func2(11, 6))\n"
   ]
  },
  {
   "cell_type": "code",
   "execution_count": 25,
   "id": "2e066e44",
   "metadata": {},
   "outputs": [],
   "source": [
    "# 두개의 숫자와 연산자를 입력받아 사칙연산의(+, -, *, /) 결과를 리턴하는 함수 작성\n",
    "\n",
    "def fourRules(x, y, op):\n",
    "    result = 0\n",
    "    if op == \"+\":\n",
    "        result = x + y\n",
    "    elif op == \"-\":\n",
    "        result = x - y\n",
    "    elif op == \"*\":\n",
    "        result = x * y\n",
    "    elif op == \"/\":\n",
    "        result = x / y\n",
    "    return result\n",
    "\n"
   ]
  },
  {
   "cell_type": "code",
   "execution_count": 26,
   "id": "45825285",
   "metadata": {},
   "outputs": [
    {
     "name": "stdout",
     "output_type": "stream",
     "text": [
      "11\n",
      "-1\n",
      "30\n",
      "0.8333333333333334\n"
     ]
    }
   ],
   "source": [
    "print(fourRules(5, 6, \"+\"))\n",
    "print(fourRules(5, 6, \"-\"))\n",
    "print(fourRules(5, 6, \"*\"))\n",
    "print(fourRules(5, 6, \"/\"))"
   ]
  },
  {
   "cell_type": "code",
   "execution_count": 30,
   "id": "49ca0ed0",
   "metadata": {},
   "outputs": [],
   "source": [
    "# 람다함수\n",
    "# 익명함수 \n",
    "\n",
    "def square(x):\n",
    "    return x**2\n",
    "\n",
    "square2 = lambda x:x**2"
   ]
  },
  {
   "cell_type": "code",
   "execution_count": 28,
   "id": "c7f68541",
   "metadata": {},
   "outputs": [
    {
     "name": "stdout",
     "output_type": "stream",
     "text": [
      "25\n"
     ]
    }
   ],
   "source": [
    "print(square(5))"
   ]
  },
  {
   "cell_type": "code",
   "execution_count": 31,
   "id": "1595beb3",
   "metadata": {},
   "outputs": [
    {
     "name": "stdout",
     "output_type": "stream",
     "text": [
      "<class 'function'>\n"
     ]
    }
   ],
   "source": [
    "print(type(square2))"
   ]
  },
  {
   "cell_type": "code",
   "execution_count": null,
   "id": "a3bccf46",
   "metadata": {},
   "outputs": [],
   "source": [
    "def add(a, b):\n",
    "    return a+b\n",
    "    \n",
    "add2 = lambda a, b:a+b\n"
   ]
  },
  {
   "cell_type": "code",
   "execution_count": 34,
   "id": "52868fbe",
   "metadata": {},
   "outputs": [
    {
     "name": "stdout",
     "output_type": "stream",
     "text": [
      "17\n"
     ]
    }
   ],
   "source": [
    "print(add2(6, 11))"
   ]
  },
  {
   "cell_type": "code",
   "execution_count": null,
   "id": "a5c6e445",
   "metadata": {},
   "outputs": [
    {
     "name": "stdout",
     "output_type": "stream",
     "text": [
      "['bob', 'charles', 'alexander3', 'teddy']\n",
      "['alexander3', 'bob', 'charles', 'teddy']\n"
     ]
    }
   ],
   "source": [
    "list1 = [\"bob\", \"charles\", \"alexander3\", \"teddy\"]\n",
    "\n",
    "print(list1)\n",
    "list1.sort() # 알파벳 순서 오름차순\n",
    "print(list1)\n",
    "\n"
   ]
  },
  {
   "cell_type": "code",
   "execution_count": 36,
   "id": "9fa5dc2c",
   "metadata": {},
   "outputs": [
    {
     "data": {
      "text/plain": [
       "['bob', 'teddy', 'charles', 'alexander3']"
      ]
     },
     "execution_count": 36,
     "metadata": {},
     "output_type": "execute_result"
    }
   ],
   "source": [
    "# 문자의 길이가 짧은 순서대로 정렬\n",
    "def str_len(s):\n",
    "    return len(s)\n",
    "\n",
    "list1.sort(key=str_len)\n",
    "list1"
   ]
  },
  {
   "cell_type": "code",
   "execution_count": 38,
   "id": "bff0ff3d",
   "metadata": {},
   "outputs": [
    {
     "data": {
      "text/plain": [
       "['bob', 'teddy', 'charles', 'alexander3']"
      ]
     },
     "execution_count": 38,
     "metadata": {},
     "output_type": "execute_result"
    }
   ],
   "source": [
    "list1 = [\"bob\", \"charles\", \"alexander3\", \"teddy\"]\n",
    "\n",
    "list1.sort(key=lambda s:len(s))\n",
    "list1"
   ]
  },
  {
   "cell_type": "code",
   "execution_count": 39,
   "id": "7d1a1d14",
   "metadata": {},
   "outputs": [
    {
     "name": "stdout",
     "output_type": "stream",
     "text": [
      "[2, 4, 10, 12, 14]\n"
     ]
    }
   ],
   "source": [
    "# filter, map : 실행 후 새로운 리스트로 반환\n",
    "\n",
    "list1 = [1, 2, 3, 4,  5, 7, 9, 10, 12, 14]\n",
    "\n",
    "# list1 에서 짝수만 추출한 후 새로운 리스트로 생성\n",
    "\n",
    "list2 = [x for x in list1 if x % 2 == 0]\n",
    "print(list2)\n",
    "\n",
    "def even(data):\n",
    "    return [x for x in list1 if x % 2 == 0]"
   ]
  },
  {
   "cell_type": "code",
   "execution_count": 40,
   "id": "a414a6e2",
   "metadata": {},
   "outputs": [
    {
     "name": "stdout",
     "output_type": "stream",
     "text": [
      "[2, 4, 10, 12, 14]\n",
      "[2, 4, 10, 12, 14]\n"
     ]
    }
   ],
   "source": [
    "print(even([22, 3, 4, 5, 6, 7, 9, 8]))\n",
    "print(even(list1))"
   ]
  },
  {
   "cell_type": "code",
   "execution_count": 44,
   "id": "0eb530f1",
   "metadata": {},
   "outputs": [
    {
     "data": {
      "text/plain": [
       "[2, 4, 10, 12, 14]"
      ]
     },
     "execution_count": 44,
     "metadata": {},
     "output_type": "execute_result"
    }
   ],
   "source": [
    "# filter(함수, 함수적용할 리스트)\n",
    "def even(n):\n",
    "    return n % 2 == 0\n",
    "\n",
    "list(filter(even, list1))"
   ]
  },
  {
   "cell_type": "code",
   "execution_count": 45,
   "id": "c3f999b5",
   "metadata": {},
   "outputs": [
    {
     "data": {
      "text/plain": [
       "[2, 4, 10, 12, 14]"
      ]
     },
     "execution_count": 45,
     "metadata": {},
     "output_type": "execute_result"
    }
   ],
   "source": [
    "list(filter(lambda n:n%2==0, list1))"
   ]
  },
  {
   "cell_type": "code",
   "execution_count": 47,
   "id": "0e4eb720",
   "metadata": {},
   "outputs": [
    {
     "data": {
      "text/plain": [
       "[1, 4, 9, 16, 25, 49, 81, 100, 144, 196]"
      ]
     },
     "execution_count": 47,
     "metadata": {},
     "output_type": "execute_result"
    }
   ],
   "source": [
    "# map(함수, 리스트)\n",
    "def mul(x):\n",
    "    return x ** 2\n",
    "\n",
    "list(map(mul, list1))\n"
   ]
  },
  {
   "cell_type": "code",
   "execution_count": 48,
   "id": "b11566c7",
   "metadata": {},
   "outputs": [
    {
     "data": {
      "text/plain": [
       "[1, 4, 9, 16, 25, 49, 81, 100, 144, 196]"
      ]
     },
     "execution_count": 48,
     "metadata": {},
     "output_type": "execute_result"
    }
   ],
   "source": [
    "list(map(lambda x:x**2, list1))"
   ]
  },
  {
   "cell_type": "code",
   "execution_count": null,
   "id": "797c6d21",
   "metadata": {},
   "outputs": [],
   "source": []
  }
 ],
 "metadata": {
  "kernelspec": {
   "display_name": "venv",
   "language": "python",
   "name": "python3"
  },
  "language_info": {
   "codemirror_mode": {
    "name": "ipython",
    "version": 3
   },
   "file_extension": ".py",
   "mimetype": "text/x-python",
   "name": "python",
   "nbconvert_exporter": "python",
   "pygments_lexer": "ipython3",
   "version": "3.13.3"
  }
 },
 "nbformat": 4,
 "nbformat_minor": 5
}
