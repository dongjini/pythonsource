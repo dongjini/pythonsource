{
 "cells": [
  {
   "cell_type": "markdown",
   "id": "7e964e6a",
   "metadata": {},
   "source": [
    "#### 리스트\n",
    "   - java / javascript 의 배열과 개념 동일\n",
    "   - javascript의 배열과 동작방식 동일함(데이터를 여러 타입을 담을 수 있음)"
   ]
  },
  {
   "cell_type": "code",
   "execution_count": 9,
   "id": "6c62d22d",
   "metadata": {},
   "outputs": [],
   "source": [
    "# 리스트 생성\n",
    "\n",
    "list1 = []\n",
    "list2 = [\"a\", \"b\", \"c\", 1, 2, 3]\n",
    "list3 = [ 1, 2, 3, 4, 5, 7, 5]\n",
    "list4 = [1, 2, [\"Life\", \"is\", \"short\"]] # 2차원 리스트\n",
    "list5 = list('34')\n"
   ]
  },
  {
   "cell_type": "code",
   "execution_count": 10,
   "id": "8cc1caa4",
   "metadata": {},
   "outputs": [
    {
     "name": "stdout",
     "output_type": "stream",
     "text": [
      "[]\n",
      "['a', 'b', 'c', 1, 2, 3]\n",
      "[1, 2, 3, 4, 5, 7, 5]\n",
      "[1, 2, ['Life', 'is', 'short']]\n",
      "['3', '4']\n"
     ]
    }
   ],
   "source": [
    "print(list1)\n",
    "print(list2)\n",
    "print(list3)\n",
    "print(list4)\n",
    "print(list5)"
   ]
  },
  {
   "cell_type": "markdown",
   "id": "8364da47",
   "metadata": {},
   "source": [
    "### 리스트 인덱싱과 슬라이싱\n"
   ]
  },
  {
   "cell_type": "code",
   "execution_count": 15,
   "id": "26db1714",
   "metadata": {},
   "outputs": [
    {
     "name": "stdout",
     "output_type": "stream",
     "text": [
      "a\n",
      "['Life', 'is', 'short']\n",
      "['Life', 'is', 'short']\n",
      "Life\n",
      "4\n"
     ]
    }
   ],
   "source": [
    "print(list2[0])\n",
    "print(list4[2])\n",
    "print(list4[-1])\n",
    "print(list4[-1][0])\n",
    "print(list5[-1])"
   ]
  },
  {
   "cell_type": "code",
   "execution_count": 18,
   "id": "123a7e27",
   "metadata": {},
   "outputs": [
    {
     "name": "stdout",
     "output_type": "stream",
     "text": [
      "is\n",
      "is\n"
     ]
    }
   ],
   "source": [
    "list6 = [1, 2, [\"a\", \"b\", [\"Life\", \"is\"]]]\n",
    "\n",
    "# is 출력\n",
    "print(list6[2][2][1])\n",
    "print(list6[-1][-1][-1])"
   ]
  },
  {
   "cell_type": "code",
   "execution_count": 22,
   "id": "0f4ad1bd",
   "metadata": {},
   "outputs": [
    {
     "name": "stdout",
     "output_type": "stream",
     "text": [
      "['a', 'b', 'c', 1, 2, 3]\n",
      "['a', 'b']\n",
      "['c', 1, 2, 3]\n",
      "[1, 2, ['Life', 'is', 'short']]\n",
      "['Life', 'is']\n"
     ]
    }
   ],
   "source": [
    "print(list2)\n",
    "print(list2[:2])\n",
    "print(list2[2:])\n",
    "\n",
    "print(list4)\n",
    "print(list4[2][:2])"
   ]
  },
  {
   "cell_type": "code",
   "execution_count": null,
   "id": "5e705180",
   "metadata": {},
   "outputs": [
    {
     "name": "stdout",
     "output_type": "stream",
     "text": [
      "['a', 'b', 'c', 1, 2, 3, 1, 2, 3, 4, 5, 7, 5]\n",
      "['a', 'b', 'c', 1, 2, 3, 'a', 'b', 'c', 1, 2, 3, 'a', 'b', 'c', 1, 2, 3]\n"
     ]
    }
   ],
   "source": [
    "# + (연결)   /      *(반복)\n",
    "\n",
    "print(list2 + list3)\n",
    "print(list2 * 3) # 반복"
   ]
  },
  {
   "cell_type": "code",
   "execution_count": null,
   "id": "9a59f06d",
   "metadata": {},
   "outputs": [
    {
     "name": "stdout",
     "output_type": "stream",
     "text": [
      "['a', 'd', 11, 12, 'c', 1, 2, 3]\n",
      "['a', 10, 11, 12, 11, 12, 'c', 1, 2, 3]\n",
      "['a', [15, 16, 17], 11, 12, 11, 12, 'c', 1, 2, 3]\n"
     ]
    }
   ],
   "source": [
    "list2[1] = 'd'\n",
    "print(list2)\n",
    "\n",
    "list2[1:2] = [10, 11, 12] # 슬라이싱으로 넣으면 풀어서 들어감\n",
    "print(list2)\n",
    "\n",
    "list2[1] = [15, 16, 17] # 범위를 지정하지 않으면 2차원 배열로 들어감\n",
    "print(list2)"
   ]
  },
  {
   "cell_type": "code",
   "execution_count": 28,
   "id": "48d1013c",
   "metadata": {},
   "outputs": [
    {
     "name": "stdout",
     "output_type": "stream",
     "text": [
      "['a', 11, 12, 11, 12, 'c', 1, 2, 3]\n"
     ]
    }
   ],
   "source": [
    "# 리스트 요소 삭제\n",
    "\n",
    "del list2[1]\n",
    "print(list2)"
   ]
  },
  {
   "cell_type": "code",
   "execution_count": 29,
   "id": "923dfb60",
   "metadata": {},
   "outputs": [
    {
     "data": {
      "text/plain": [
       "9"
      ]
     },
     "execution_count": 29,
     "metadata": {},
     "output_type": "execute_result"
    }
   ],
   "source": [
    "# len() : 길이\n",
    "\n",
    "len(list2)"
   ]
  },
  {
   "cell_type": "code",
   "execution_count": 31,
   "id": "d8b7e042",
   "metadata": {},
   "outputs": [
    {
     "name": "stdout",
     "output_type": "stream",
     "text": [
      "a 11 12 11 12 c 1 2 3 "
     ]
    }
   ],
   "source": [
    "for i in list2:\n",
    "    print(i, end=\" \")"
   ]
  },
  {
   "cell_type": "markdown",
   "id": "67aa95a3",
   "metadata": {},
   "source": [
    "### 리스트 함수\n"
   ]
  },
  {
   "cell_type": "code",
   "execution_count": 39,
   "id": "8c8838d2",
   "metadata": {},
   "outputs": [
    {
     "data": {
      "text/plain": [
       "['3', '4', '5', '5', [6, 7, 8], '5', [6, 7, 8], '5', '5', [6, 7, 8]]"
      ]
     },
     "execution_count": 39,
     "metadata": {},
     "output_type": "execute_result"
    }
   ],
   "source": [
    "# append(요소는 하나) : 리스트 뒤에 요소 추가\n",
    "list5.append('5')\n",
    "# list5.append('5', '6', '7') -> append 안에는 요소 하나만 넣을 수 있음 \n",
    "list5.append([6, 7, 8])\n",
    "list5"
   ]
  },
  {
   "cell_type": "code",
   "execution_count": 45,
   "id": "2d34f948",
   "metadata": {},
   "outputs": [
    {
     "name": "stdout",
     "output_type": "stream",
     "text": [
      "[2, 4, 6, 8, 10, 12, 14, 16, 18, 20, 22, 24, 26, 28, 30, 32, 34, 36, 38, 40, 42, 44, 46, 48, 50, 52, 54, 56, 58, 60, 62, 64, 66, 68, 70, 72, 74, 76, 78, 80, 82, 84, 86, 88, 90, 92, 94, 96, 98, 100]\n"
     ]
    }
   ],
   "source": [
    "# 1~ 100 숫자 중에서 짝수만 리스트로 생성\n",
    "# range(시작, 종료, 증감) : 종료는 포함 안함\n",
    "\n",
    "even = []\n",
    "\n",
    "for i in range(2, 101, 2):\n",
    "    # print(i, end=\" \")\n",
    "    even.append(i)\n",
    "print(even)\n"
   ]
  },
  {
   "cell_type": "code",
   "execution_count": null,
   "id": "11c7e823",
   "metadata": {},
   "outputs": [
    {
     "data": {
      "text/plain": [
       "[1, 2, 3, 4]"
      ]
     },
     "execution_count": 46,
     "metadata": {},
     "output_type": "execute_result"
    }
   ],
   "source": [
    "# 리스트 원본 정렬 : sort() -> 오름차순 정렬\n",
    "\n",
    "list1 = [1, 4, 3, 2]\n",
    "list1.sort() \n",
    "list1"
   ]
  },
  {
   "cell_type": "code",
   "execution_count": 48,
   "id": "69b57a67",
   "metadata": {},
   "outputs": [
    {
     "data": {
      "text/plain": [
       "['b', 'c', 'f', 'z']"
      ]
     },
     "execution_count": 48,
     "metadata": {},
     "output_type": "execute_result"
    }
   ],
   "source": [
    "list2 = ['z', 'b', 'c', 'f']\n",
    "list2.sort()\n",
    "list2"
   ]
  },
  {
   "cell_type": "code",
   "execution_count": 52,
   "id": "8bda5035",
   "metadata": {},
   "outputs": [
    {
     "data": {
      "text/plain": [
       "['A', 'C', 'b', 'f']"
      ]
     },
     "execution_count": 52,
     "metadata": {},
     "output_type": "execute_result"
    }
   ],
   "source": [
    "list2 = ['A', 'b', 'C', 'f']\n",
    "list2.sort() # 대문자 => 소문자 순으로 정렬\n",
    "list2"
   ]
  },
  {
   "cell_type": "code",
   "execution_count": null,
   "id": "b169088f",
   "metadata": {},
   "outputs": [
    {
     "name": "stdout",
     "output_type": "stream",
     "text": [
      "정렬 전  ['A', 'C', 'b', 'f']\n",
      "정렬 후 ['f', 'b', 'C', 'A']\n"
     ]
    }
   ],
   "source": [
    "# 내림차순 \n",
    "# sort(reverse=True)\n",
    "print(\"정렬 전 \", list2)\n",
    "list2.sort(reverse=True)\n",
    "\n",
    "print(\"정렬 후\",list2)"
   ]
  },
  {
   "cell_type": "code",
   "execution_count": 54,
   "id": "087d8b70",
   "metadata": {},
   "outputs": [
    {
     "name": "stdout",
     "output_type": "stream",
     "text": [
      "[1, 2, 3, 4, 5, 7, 5]\n",
      "[5, 7, 5, 4, 3, 2, 1]\n"
     ]
    }
   ],
   "source": [
    "# reserse() : 리스트 뒤집기\n",
    "\n",
    "print(list3)\n",
    "list3.reverse()\n",
    "print(list3)"
   ]
  },
  {
   "cell_type": "code",
   "execution_count": null,
   "id": "ff3e07ce",
   "metadata": {},
   "outputs": [],
   "source": []
  }
 ],
 "metadata": {
  "kernelspec": {
   "display_name": "venv",
   "language": "python",
   "name": "python3"
  },
  "language_info": {
   "codemirror_mode": {
    "name": "ipython",
    "version": 3
   },
   "file_extension": ".py",
   "mimetype": "text/x-python",
   "name": "python",
   "nbconvert_exporter": "python",
   "pygments_lexer": "ipython3",
   "version": "3.13.3"
  }
 },
 "nbformat": 4,
 "nbformat_minor": 5
}
