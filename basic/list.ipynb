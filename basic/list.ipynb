{
 "cells": [
  {
   "cell_type": "markdown",
   "id": "7e964e6a",
   "metadata": {},
   "source": [
    "#### 리스트\n",
    "   - java / javascript 의 배열과 개념 동일\n",
    "   - javascript의 배열과 동작방식 동일함(데이터를 여러 타입을 담을 수 있음)"
   ]
  },
  {
   "cell_type": "code",
   "execution_count": 1,
   "id": "6c62d22d",
   "metadata": {},
   "outputs": [],
   "source": [
    "# 리스트 생성\n",
    "\n",
    "list1 = []\n",
    "list2 = [\"a\", \"b\", \"c\", 1, 2, 3]\n",
    "list3 = [ 1, 2, 3, 4, 5, 7, 5]\n",
    "list4 = [1, 2, [\"Life\", \"is\", \"short\"]] # 2차원 리스트\n",
    "list5 = list('34')\n"
   ]
  },
  {
   "cell_type": "code",
   "execution_count": 10,
   "id": "8cc1caa4",
   "metadata": {},
   "outputs": [
    {
     "name": "stdout",
     "output_type": "stream",
     "text": [
      "[]\n",
      "['a', 'b', 'c', 1, 2, 3]\n",
      "[1, 2, 3, 4, 5, 7, 5]\n",
      "[1, 2, ['Life', 'is', 'short']]\n",
      "['3', '4']\n"
     ]
    }
   ],
   "source": [
    "print(list1)\n",
    "print(list2)\n",
    "print(list3)\n",
    "print(list4)\n",
    "print(list5)"
   ]
  },
  {
   "cell_type": "markdown",
   "id": "8364da47",
   "metadata": {},
   "source": [
    "### 리스트 인덱싱과 슬라이싱\n"
   ]
  },
  {
   "cell_type": "code",
   "execution_count": 15,
   "id": "26db1714",
   "metadata": {},
   "outputs": [
    {
     "name": "stdout",
     "output_type": "stream",
     "text": [
      "a\n",
      "['Life', 'is', 'short']\n",
      "['Life', 'is', 'short']\n",
      "Life\n",
      "4\n"
     ]
    }
   ],
   "source": [
    "print(list2[0])\n",
    "print(list4[2])\n",
    "print(list4[-1])\n",
    "print(list4[-1][0])\n",
    "print(list5[-1])"
   ]
  },
  {
   "cell_type": "code",
   "execution_count": 18,
   "id": "123a7e27",
   "metadata": {},
   "outputs": [
    {
     "name": "stdout",
     "output_type": "stream",
     "text": [
      "is\n",
      "is\n"
     ]
    }
   ],
   "source": [
    "list6 = [1, 2, [\"a\", \"b\", [\"Life\", \"is\"]]]\n",
    "\n",
    "# is 출력\n",
    "print(list6[2][2][1])\n",
    "print(list6[-1][-1][-1])"
   ]
  },
  {
   "cell_type": "code",
   "execution_count": 22,
   "id": "0f4ad1bd",
   "metadata": {},
   "outputs": [
    {
     "name": "stdout",
     "output_type": "stream",
     "text": [
      "['a', 'b', 'c', 1, 2, 3]\n",
      "['a', 'b']\n",
      "['c', 1, 2, 3]\n",
      "[1, 2, ['Life', 'is', 'short']]\n",
      "['Life', 'is']\n"
     ]
    }
   ],
   "source": [
    "print(list2)\n",
    "print(list2[:2])\n",
    "print(list2[2:])\n",
    "\n",
    "print(list4)\n",
    "print(list4[2][:2])"
   ]
  },
  {
   "cell_type": "code",
   "execution_count": null,
   "id": "5e705180",
   "metadata": {},
   "outputs": [
    {
     "name": "stdout",
     "output_type": "stream",
     "text": [
      "['a', 'b', 'c', 1, 2, 3, 1, 2, 3, 4, 5, 7, 5]\n",
      "['a', 'b', 'c', 1, 2, 3, 'a', 'b', 'c', 1, 2, 3, 'a', 'b', 'c', 1, 2, 3]\n"
     ]
    }
   ],
   "source": [
    "# + (연결)   /      *(반복)\n",
    "\n",
    "print(list2 + list3)\n",
    "print(list2 * 3) # 반복"
   ]
  },
  {
   "cell_type": "code",
   "execution_count": null,
   "id": "9a59f06d",
   "metadata": {},
   "outputs": [
    {
     "name": "stdout",
     "output_type": "stream",
     "text": [
      "['a', 'd', 11, 12, 'c', 1, 2, 3]\n",
      "['a', 10, 11, 12, 11, 12, 'c', 1, 2, 3]\n",
      "['a', [15, 16, 17], 11, 12, 11, 12, 'c', 1, 2, 3]\n"
     ]
    }
   ],
   "source": [
    "list2[1] = 'd'\n",
    "print(list2)\n",
    "\n",
    "list2[1:2] = [10, 11, 12] # 슬라이싱으로 넣으면 풀어서 들어감\n",
    "print(list2)\n",
    "\n",
    "list2[1] = [15, 16, 17] # 범위를 지정하지 않으면 2차원 배열로 들어감\n",
    "print(list2)"
   ]
  },
  {
   "cell_type": "code",
   "execution_count": 28,
   "id": "48d1013c",
   "metadata": {},
   "outputs": [
    {
     "name": "stdout",
     "output_type": "stream",
     "text": [
      "['a', 11, 12, 11, 12, 'c', 1, 2, 3]\n"
     ]
    }
   ],
   "source": [
    "# 리스트 요소 삭제\n",
    "\n",
    "del list2[1]\n",
    "print(list2)"
   ]
  },
  {
   "cell_type": "code",
   "execution_count": 29,
   "id": "923dfb60",
   "metadata": {},
   "outputs": [
    {
     "data": {
      "text/plain": [
       "9"
      ]
     },
     "execution_count": 29,
     "metadata": {},
     "output_type": "execute_result"
    }
   ],
   "source": [
    "# len() : 길이\n",
    "\n",
    "len(list2)"
   ]
  },
  {
   "cell_type": "code",
   "execution_count": 31,
   "id": "d8b7e042",
   "metadata": {},
   "outputs": [
    {
     "name": "stdout",
     "output_type": "stream",
     "text": [
      "a 11 12 11 12 c 1 2 3 "
     ]
    }
   ],
   "source": [
    "for i in list2:\n",
    "    print(i, end=\" \")"
   ]
  },
  {
   "cell_type": "markdown",
   "id": "67aa95a3",
   "metadata": {},
   "source": [
    "### 리스트 함수\n"
   ]
  },
  {
   "cell_type": "code",
   "execution_count": 39,
   "id": "8c8838d2",
   "metadata": {},
   "outputs": [
    {
     "data": {
      "text/plain": [
       "['3', '4', '5', '5', [6, 7, 8], '5', [6, 7, 8], '5', '5', [6, 7, 8]]"
      ]
     },
     "execution_count": 39,
     "metadata": {},
     "output_type": "execute_result"
    }
   ],
   "source": [
    "# append(요소는 하나) : 리스트 뒤에 요소 추가\n",
    "list5.append('5')\n",
    "# list5.append('5', '6', '7') -> append 안에는 요소 하나만 넣을 수 있음 \n",
    "list5.append([6, 7, 8])\n",
    "list5"
   ]
  },
  {
   "cell_type": "code",
   "execution_count": 45,
   "id": "2d34f948",
   "metadata": {},
   "outputs": [
    {
     "name": "stdout",
     "output_type": "stream",
     "text": [
      "[2, 4, 6, 8, 10, 12, 14, 16, 18, 20, 22, 24, 26, 28, 30, 32, 34, 36, 38, 40, 42, 44, 46, 48, 50, 52, 54, 56, 58, 60, 62, 64, 66, 68, 70, 72, 74, 76, 78, 80, 82, 84, 86, 88, 90, 92, 94, 96, 98, 100]\n"
     ]
    }
   ],
   "source": [
    "# 1~ 100 숫자 중에서 짝수만 리스트로 생성\n",
    "# range(시작, 종료, 증감) : 종료는 포함 안함\n",
    "\n",
    "even = []\n",
    "\n",
    "for i in range(2, 101, 2):\n",
    "    # print(i, end=\" \")\n",
    "    even.append(i)\n",
    "print(even)\n"
   ]
  },
  {
   "cell_type": "code",
   "execution_count": null,
   "id": "11c7e823",
   "metadata": {},
   "outputs": [
    {
     "data": {
      "text/plain": [
       "[1, 2, 3, 4]"
      ]
     },
     "execution_count": 46,
     "metadata": {},
     "output_type": "execute_result"
    }
   ],
   "source": [
    "# 리스트 원본 정렬 : sort() -> 오름차순 정렬\n",
    "\n",
    "list1 = [1, 4, 3, 2]\n",
    "list1.sort() \n",
    "list1"
   ]
  },
  {
   "cell_type": "code",
   "execution_count": 48,
   "id": "69b57a67",
   "metadata": {},
   "outputs": [
    {
     "data": {
      "text/plain": [
       "['b', 'c', 'f', 'z']"
      ]
     },
     "execution_count": 48,
     "metadata": {},
     "output_type": "execute_result"
    }
   ],
   "source": [
    "list2 = ['z', 'b', 'c', 'f']\n",
    "list2.sort()\n",
    "list2"
   ]
  },
  {
   "cell_type": "code",
   "execution_count": 52,
   "id": "8bda5035",
   "metadata": {},
   "outputs": [
    {
     "data": {
      "text/plain": [
       "['A', 'C', 'b', 'f']"
      ]
     },
     "execution_count": 52,
     "metadata": {},
     "output_type": "execute_result"
    }
   ],
   "source": [
    "list2 = ['A', 'b', 'C', 'f']\n",
    "list2.sort() # 대문자 => 소문자 순으로 정렬\n",
    "list2"
   ]
  },
  {
   "cell_type": "code",
   "execution_count": null,
   "id": "b169088f",
   "metadata": {},
   "outputs": [
    {
     "name": "stdout",
     "output_type": "stream",
     "text": [
      "정렬 전  ['A', 'C', 'b', 'f']\n",
      "정렬 후 ['f', 'b', 'C', 'A']\n"
     ]
    }
   ],
   "source": [
    "# 내림차순 \n",
    "# sort(reverse=True)\n",
    "print(\"정렬 전 \", list2)\n",
    "list2.sort(reverse=True)\n",
    "\n",
    "print(\"정렬 후\",list2)"
   ]
  },
  {
   "cell_type": "code",
   "execution_count": 54,
   "id": "087d8b70",
   "metadata": {},
   "outputs": [
    {
     "name": "stdout",
     "output_type": "stream",
     "text": [
      "[1, 2, 3, 4, 5, 7, 5]\n",
      "[5, 7, 5, 4, 3, 2, 1]\n"
     ]
    }
   ],
   "source": [
    "# reserse() : 리스트 뒤집기\n",
    "\n",
    "print(list3)\n",
    "list3.reverse()\n",
    "print(list3)"
   ]
  },
  {
   "cell_type": "code",
   "execution_count": 3,
   "id": "ff3e07ce",
   "metadata": {},
   "outputs": [
    {
     "data": {
      "text/plain": [
       "0"
      ]
     },
     "execution_count": 3,
     "metadata": {},
     "output_type": "execute_result"
    }
   ],
   "source": [
    " # index() : 특정 요소 위치 반환( 없는 경우 에러)\n",
    "\n",
    "# list3.index(9)\n",
    "list3.index(1)"
   ]
  },
  {
   "cell_type": "code",
   "execution_count": null,
   "id": "3ee3732a",
   "metadata": {},
   "outputs": [],
   "source": [
    "# insert(위치, 요소) : 위치 지정해서 요소 삽입\n",
    "list3.insert(2, 35)"
   ]
  },
  {
   "cell_type": "code",
   "execution_count": 5,
   "id": "4d185cec",
   "metadata": {},
   "outputs": [
    {
     "data": {
      "text/plain": [
       "[1, 2, 35, 3, 4, 5, 7, 5]"
      ]
     },
     "execution_count": 5,
     "metadata": {},
     "output_type": "execute_result"
    }
   ],
   "source": [
    "list3"
   ]
  },
  {
   "cell_type": "code",
   "execution_count": null,
   "id": "de6e6800",
   "metadata": {},
   "outputs": [
    {
     "data": {
      "text/plain": [
       "[1, 2, 35, 3, 5, 7, 5]"
      ]
     },
     "execution_count": 6,
     "metadata": {},
     "output_type": "execute_result"
    }
   ],
   "source": [
    "# remove() : 특정 요소 삭제 // 특정 요소가 중복이 된다면 첫번쨰로 나온 요소만 삭제\n",
    "\n",
    "list3.remove(4)\n",
    "list3"
   ]
  },
  {
   "cell_type": "code",
   "execution_count": null,
   "id": "ffd772c1",
   "metadata": {},
   "outputs": [
    {
     "data": {
      "text/plain": [
       "[1, 35, 3, 5, 7]"
      ]
     },
     "execution_count": 8,
     "metadata": {},
     "output_type": "execute_result"
    }
   ],
   "source": [
    "# pop() : 리스트 맨 마지막 요소를 리턴하고 그 요소는 삭제\n",
    "\n",
    "list3.pop()\n",
    "list3"
   ]
  },
  {
   "cell_type": "code",
   "execution_count": 9,
   "id": "15afe2dd",
   "metadata": {},
   "outputs": [
    {
     "data": {
      "text/plain": [
       "[1, 3, 5, 7]"
      ]
     },
     "execution_count": 9,
     "metadata": {},
     "output_type": "execute_result"
    }
   ],
   "source": [
    "list3.pop(1)\n",
    "list3"
   ]
  },
  {
   "cell_type": "code",
   "execution_count": null,
   "id": "acaedbaa",
   "metadata": {},
   "outputs": [
    {
     "data": {
      "text/plain": [
       "1"
      ]
     },
     "execution_count": 10,
     "metadata": {},
     "output_type": "execute_result"
    }
   ],
   "source": [
    "# count() : 리스트에 포함된 요소 개수 세기\n",
    "\n",
    "list3.count(3)"
   ]
  },
  {
   "cell_type": "code",
   "execution_count": 11,
   "id": "beba961e",
   "metadata": {},
   "outputs": [
    {
     "data": {
      "text/plain": [
       "[1, 3, 5, 7, 4]"
      ]
     },
     "execution_count": 11,
     "metadata": {},
     "output_type": "execute_result"
    }
   ],
   "source": [
    "list3.append(4)\n",
    "list3"
   ]
  },
  {
   "cell_type": "code",
   "execution_count": 12,
   "id": "378518da",
   "metadata": {},
   "outputs": [
    {
     "data": {
      "text/plain": [
       "[1, 3, 5, 7, 4, [7, 8, 9]]"
      ]
     },
     "execution_count": 12,
     "metadata": {},
     "output_type": "execute_result"
    }
   ],
   "source": [
    "list3.append([7, 8, 9])\n",
    "list3"
   ]
  },
  {
   "cell_type": "code",
   "execution_count": null,
   "id": "64bd6e19",
   "metadata": {},
   "outputs": [
    {
     "data": {
      "text/plain": [
       "[1, 3, 5, 7, 4, [7, 8, 9], 16, 17, 18]"
      ]
     },
     "execution_count": 13,
     "metadata": {},
     "output_type": "execute_result"
    }
   ],
   "source": [
    "# extend() : 확장 ( 현재 리스트를 확장)\n",
    "\n",
    "list3.extend([16, 17, 18])\n",
    "list3"
   ]
  },
  {
   "cell_type": "code",
   "execution_count": null,
   "id": "78ea8268",
   "metadata": {},
   "outputs": [
    {
     "name": "stdout",
     "output_type": "stream",
     "text": [
      "True\n"
     ]
    }
   ],
   "source": [
    "# 참 : 리스트에 요소를 가지고 있으면 True, \"abc\"\n",
    "# 거짓 : [] (비어있는 경우), \"\"\n",
    "\n",
    "if list2:\n",
    "    print(True)\n",
    "else:\n",
    "    print(False)"
   ]
  },
  {
   "cell_type": "code",
   "execution_count": 16,
   "id": "b8696e43",
   "metadata": {},
   "outputs": [
    {
     "data": {
      "text/plain": [
       "['a', 'b', 'c', 1, 2, 3]"
      ]
     },
     "execution_count": 16,
     "metadata": {},
     "output_type": "execute_result"
    }
   ],
   "source": [
    "list2"
   ]
  },
  {
   "cell_type": "code",
   "execution_count": 18,
   "id": "a7edc513",
   "metadata": {},
   "outputs": [
    {
     "data": {
      "text/plain": [
       "[2, 4, 6, 8]"
      ]
     },
     "execution_count": 18,
     "metadata": {},
     "output_type": "execute_result"
    }
   ],
   "source": [
    "# list 의 각 요소에 *2 를 한 후 새로운 리스트로 반환\n",
    "list1 = [1,2,3,4]\n",
    "\n",
    "list2 = []\n",
    "for num in list1:\n",
    "    list2.append(num*2)\n",
    "\n",
    "list2\n"
   ]
  },
  {
   "cell_type": "code",
   "execution_count": null,
   "id": "1906ef52",
   "metadata": {},
   "outputs": [
    {
     "data": {
      "text/plain": [
       "[2, 4, 6, 8]"
      ]
     },
     "execution_count": 19,
     "metadata": {},
     "output_type": "execute_result"
    }
   ],
   "source": [
    "list3 = [x*2 for x in list1] # 향상된 list 다루느 방식\n",
    "list3"
   ]
  },
  {
   "cell_type": "code",
   "execution_count": 20,
   "id": "8efbcd29",
   "metadata": {},
   "outputs": [
    {
     "name": "stdout",
     "output_type": "stream",
     "text": [
      "[0, 1, 4, 9, 16]\n"
     ]
    }
   ],
   "source": [
    "print( [x * x for x in range(5)])"
   ]
  },
  {
   "cell_type": "markdown",
   "id": "86ee0d03",
   "metadata": {},
   "source": [
    "1. 메뉴 선택\n",
    "\n",
    "    - A 자동차 들어감. 주차장 상태 == ['A']\n",
    "    - B 자동차 들어감. 주차장 상태 == ['A', 'B']\n",
    "    - ....\n",
    "    - E 자동차 들어감. 주차장 상태 == ['A', 'B', 'C', 'D', 'E']\n",
    "\n",
    "2. 메뉴 선택\n",
    "    - E 자동차 나감. 주차장 상태 == ['A', 'B', 'C', 'D']\n",
    "\n"
   ]
  },
  {
   "cell_type": "code",
   "execution_count": null,
   "id": "cdf93489",
   "metadata": {},
   "outputs": [
    {
     "name": "stdout",
     "output_type": "stream",
     "text": [
      "65\n",
      "A\n"
     ]
    }
   ],
   "source": [
    "# 문자 => 유니코드 값  : ord()\n",
    "print(ord(\"A\"))\n",
    "\n",
    "# 유니코드 => 문자     : chr()\n",
    "print(chr(65))"
   ]
  },
  {
   "cell_type": "code",
   "execution_count": 28,
   "id": "7c7cad9f",
   "metadata": {},
   "outputs": [
    {
     "name": "stdout",
     "output_type": "stream",
     "text": [
      "A 자동차 들어감. 주차장 상태 ==> ['A']\n",
      "B 자동차 들어감. 주차장 상태 ==> ['A', 'B']\n",
      "B 자동차 나감. 주차장 상태 ==> ['A']\n",
      "A 자동차 나감. 주차장 상태 ==> []\n",
      "프로그램 종료\n"
     ]
    }
   ],
   "source": [
    "# 주차장 프로그램 작성\n",
    "\n",
    "parking_lot = []\n",
    "top, car_name = 0, 'A'\n",
    "\n",
    "while True:\n",
    "    no = int(input(\"[1] 자동차 넣기 | [2] 자동차 빼기 | [3] 종료\"))\n",
    "\n",
    "\n",
    "    if no <= 3:\n",
    "        if no == 1:\n",
    "            if top >= 5: # 주차장 꽉 찼음 출력\n",
    "                print(\"주차장 꽉 찼음\")    \n",
    "            else:\n",
    "                parking_lot.append(car_name) \n",
    "                # A 자동차 들어감. 주차장 상태 ==> ['A']\n",
    "                print(f\"{car_name} 자동차 들어감. 주차장 상태 ==> {parking_lot}\")\n",
    "                top +=1\n",
    "                car_name = chr(ord(car_name) +1)\n",
    "        elif no == 2:\n",
    "            if top > 0: # 주차장 꽉 찼음 출력\n",
    "                outCar = parking_lot.pop() \n",
    "                print(f\"{outCar} 자동차 나감. 주차장 상태 ==> {parking_lot}\")\n",
    "                top -=1\n",
    "                car_name = chr(ord(car_name) +1)\n",
    "            else:\n",
    "                print(\"빠져나갈 자동차가 없음\")\n",
    "\n",
    "        else:\n",
    "            print(\"프로그램 종료\")\n",
    "            break\n",
    "    else:\n",
    "        print(\"메뉴를 확인해 주세요\")"
   ]
  },
  {
   "cell_type": "markdown",
   "id": "5c8ca65c",
   "metadata": {},
   "source": [
    "## List Comprehension"
   ]
  },
  {
   "cell_type": "code",
   "execution_count": 29,
   "id": "6ae00ed6",
   "metadata": {},
   "outputs": [
    {
     "data": {
      "text/plain": [
       "[2, 4, 6, 8]"
      ]
     },
     "execution_count": 29,
     "metadata": {},
     "output_type": "execute_result"
    }
   ],
   "source": [
    "list3 = [x * 2 for x in list1]\n",
    "list3"
   ]
  },
  {
   "cell_type": "code",
   "execution_count": 30,
   "id": "ea5c9721",
   "metadata": {},
   "outputs": [
    {
     "name": "stdout",
     "output_type": "stream",
     "text": [
      "[0, 1, 4, 9, 16]\n"
     ]
    }
   ],
   "source": [
    "print([x * x for x in range(5)])"
   ]
  },
  {
   "cell_type": "code",
   "execution_count": 35,
   "id": "ebfc0bd7",
   "metadata": {},
   "outputs": [
    {
     "name": "stdout",
     "output_type": "stream",
     "text": [
      "['값', '을', '병']\n"
     ]
    }
   ],
   "source": [
    "list1 = [\"값\", \"을\", \"병\", \"정\"]\n",
    "# 정 글자만 제외하고 새로운 리스트로 생성하기\n",
    "\n",
    "# list2 = []\n",
    "# for s in list1:\n",
    "#     if s!= \"정\":\n",
    "#         list2.append(s)\n",
    "# print(list2)\n",
    "\n",
    "list2 = [s for s in list1 if s != \"정\"]\n",
    "print(list2)"
   ]
  },
  {
   "cell_type": "code",
   "execution_count": 38,
   "id": "2aa24635",
   "metadata": {},
   "outputs": [
    {
     "name": "stdout",
     "output_type": "stream",
     "text": [
      "[1, 3, 5, 7, 9, 11, 13, 15, 17, 19, 21, 23, 25, 27, 29, 31, 33, 35, 37, 39, 41, 43, 45, 47, 49, 51, 53, 55, 57, 59, 61, 63, 65, 67, 69, 71, 73, 75, 77, 79, 81, 83, 85, 87, 89, 91, 93, 95, 97, 99]"
     ]
    }
   ],
   "source": [
    "# 1 ~ 100 숫자 중에서 홀수만 리스트로 생성\n",
    "\n",
    "# list2 = []\n",
    "# for i in range(1, 101):\n",
    "#     if i % 2 == 1:\n",
    "#         list2.append(i)\n",
    "\n",
    "# list2 = list(range(1, 101, 2))\n",
    "\n",
    "list2 = [i for i in range(1, 101) if i % 2 == 1]\n",
    "print(list2, end=\"\")\n",
    "\n"
   ]
  },
  {
   "cell_type": "code",
   "execution_count": 40,
   "id": "71f4faf0",
   "metadata": {},
   "outputs": [
    {
     "name": "stdout",
     "output_type": "stream",
     "text": [
      "['study', 'python', 'anaconda']\n"
     ]
    }
   ],
   "source": [
    "list1 = [\"nice\", \"study\", \"python\", \"anaconda\", \"!\"]\n",
    "\n",
    "# 5 글자 이상의 단어만 새로운 리스트로 생성\n",
    "# list2 = []\n",
    "# for s in list1: \n",
    "#     if len(s) >= 5:\n",
    "#         list2.append(s)\n",
    "\n",
    "list2 = [s for s in list1 if len(s) >= 5]\n",
    "\n",
    "print(list2)"
   ]
  },
  {
   "cell_type": "code",
   "execution_count": 41,
   "id": "61b39830",
   "metadata": {},
   "outputs": [
    {
     "name": "stdout",
     "output_type": "stream",
     "text": [
      "[[1, 2, 3], [2, 3, 4], [3, 4, 5]]\n"
     ]
    }
   ],
   "source": [
    "print([[x, x+1, x+2] for x in [1, 2, 3]])"
   ]
  },
  {
   "cell_type": "code",
   "execution_count": null,
   "id": "1f8b83cb",
   "metadata": {},
   "outputs": [],
   "source": []
  }
 ],
 "metadata": {
  "kernelspec": {
   "display_name": "venv",
   "language": "python",
   "name": "python3"
  },
  "language_info": {
   "codemirror_mode": {
    "name": "ipython",
    "version": 3
   },
   "file_extension": ".py",
   "mimetype": "text/x-python",
   "name": "python",
   "nbconvert_exporter": "python",
   "pygments_lexer": "ipython3",
   "version": "3.13.3"
  }
 },
 "nbformat": 4,
 "nbformat_minor": 5
}
